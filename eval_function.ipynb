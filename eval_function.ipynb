{
 "cells": [
  {
   "cell_type": "code",
   "execution_count": null,
   "id": "d2d93ff0",
   "metadata": {},
   "outputs": [],
   "source": [
    "def count_points(pred, gold):\n",
    "    df = pd.merge(pred, gold, on=['userID', 'itemID'], suffixes=('_pred', '_gold'))\n",
    "    df['points'] = df.apply(_compute_points_for_row, axis=1)\n",
    "    return df['points'].sum()\n",
    "\n",
    "def _compute_points_for_row(row):\n",
    "    y_pred, y_gold = row.prediction_pred, row.prediction_gold\n",
    "    if y_pred == y_gold:\n",
    "        # one point if \"no order\" (0) is predicted correctly; three points if order week is predicted correctly\n",
    "        return 1 if y_pred == 0 else 3\n",
    "    # one point if order is predicted correctly (but not the correct week), otherwise zero points\n",
    "    return 1 if (y_pred > 0 and y_gold > 0) else 0"
   ]
  },
  {
   "cell_type": "code",
   "execution_count": null,
   "id": "7bd8503b",
   "metadata": {},
   "outputs": [],
   "source": [
    "# 'pred' and 'gold' are DataFrames with columns ['userID', 'itemID', 'prediction']\n",
    "pred, gold = None, None  # TODO: load your prediction and goldstandard\n",
    "\n",
    "points = count_points(pred, gold)\n",
    "max_points = count_points(gold, gold)\n",
    "score = points / max_points\n"
   ]
  }
 ],
 "metadata": {
  "kernelspec": {
   "display_name": "Python 3 (ipykernel)",
   "language": "python",
   "name": "python3"
  },
  "language_info": {
   "codemirror_mode": {
    "name": "ipython",
    "version": 3
   },
   "file_extension": ".py",
   "mimetype": "text/x-python",
   "name": "python",
   "nbconvert_exporter": "python",
   "pygments_lexer": "ipython3",
   "version": "3.9.7"
  }
 },
 "nbformat": 4,
 "nbformat_minor": 5
}
