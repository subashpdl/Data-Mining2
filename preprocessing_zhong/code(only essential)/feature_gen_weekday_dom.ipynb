{
 "cells": [
  {
   "cell_type": "code",
   "execution_count": 9,
   "id": "c23baa94",
   "metadata": {},
   "outputs": [],
   "source": [
    "import pandas as pd\n",
    "import datetime"
   ]
  },
  {
   "cell_type": "code",
   "execution_count": 10,
   "id": "d4fa51df",
   "metadata": {},
   "outputs": [],
   "source": [
    "orders = pd.read_csv('orders.csv', delimiter=',')"
   ]
  },
  {
   "cell_type": "code",
   "execution_count": 11,
   "id": "f4aa9176",
   "metadata": {},
   "outputs": [],
   "source": [
    "orders['date'] = pd.to_datetime(orders['date'])"
   ]
  },
  {
   "cell_type": "code",
   "execution_count": 12,
   "id": "af093fca",
   "metadata": {},
   "outputs": [],
   "source": [
    "ls_weekday = list()\n",
    "\n",
    "for i in range(orders.shape[0]):\n",
    "    ls_weekday.append(orders.iloc[i]['date'].weekday())"
   ]
  },
  {
   "cell_type": "code",
   "execution_count": 13,
   "id": "33947f47",
   "metadata": {},
   "outputs": [],
   "source": [
    "orders['weekday'] = ls_weekday"
   ]
  },
  {
   "cell_type": "code",
   "execution_count": 45,
   "id": "4afdaa6e",
   "metadata": {},
   "outputs": [
    {
     "data": {
      "text/plain": [
       "1"
      ]
     },
     "execution_count": 45,
     "metadata": {},
     "output_type": "execute_result"
    }
   ],
   "source": [
    "#orders.iloc[0]['date'].day"
   ]
  },
  {
   "cell_type": "code",
   "execution_count": 14,
   "id": "a6a5009c",
   "metadata": {},
   "outputs": [],
   "source": [
    "ls_date_of_month = list()\n",
    "\n",
    "for i in range(orders.shape[0]):\n",
    "    ls_date_of_month.append(orders.iloc[i]['date'].day)"
   ]
  },
  {
   "cell_type": "code",
   "execution_count": 15,
   "id": "05ce7197",
   "metadata": {},
   "outputs": [],
   "source": [
    "orders['date_of_month'] = ls_date_of_month"
   ]
  },
  {
   "cell_type": "code",
   "execution_count": 16,
   "id": "dbe081dd",
   "metadata": {},
   "outputs": [],
   "source": [
    "orders.to_csv('orders_weekday_dom.csv', index=False, encoding='utf-8', sep=',')"
   ]
  },
  {
   "cell_type": "code",
   "execution_count": null,
   "id": "a7f5fef5",
   "metadata": {},
   "outputs": [],
   "source": []
  }
 ],
 "metadata": {
  "kernelspec": {
   "display_name": "Python 3",
   "language": "python",
   "name": "python3"
  },
  "language_info": {
   "codemirror_mode": {
    "name": "ipython",
    "version": 3
   },
   "file_extension": ".py",
   "mimetype": "text/x-python",
   "name": "python",
   "nbconvert_exporter": "python",
   "pygments_lexer": "ipython3",
   "version": "3.8.8"
  }
 },
 "nbformat": 4,
 "nbformat_minor": 5
}
