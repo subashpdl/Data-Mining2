{
 "cells": [
  {
   "cell_type": "code",
   "execution_count": 1,
   "id": "c7d57105",
   "metadata": {},
   "outputs": [],
   "source": [
    "import pandas as pd\n",
    "import numpy as np"
   ]
  },
  {
   "cell_type": "code",
   "execution_count": 2,
   "id": "36931e9e",
   "metadata": {},
   "outputs": [],
   "source": [
    "orders_jan = pd.read_csv('orders.csv', delimiter='|')"
   ]
  },
  {
   "cell_type": "code",
   "execution_count": 3,
   "id": "28dd8a35",
   "metadata": {},
   "outputs": [],
   "source": [
    "orders_jan['comID'] = orders_jan['userID'].astype(str) + orders_jan['itemID'].astype(str)"
   ]
  },
  {
   "cell_type": "code",
   "execution_count": 4,
   "id": "d21b19eb",
   "metadata": {},
   "outputs": [],
   "source": [
    "orders_jan['date'] = pd.to_datetime(orders_jan['date'])"
   ]
  },
  {
   "cell_type": "code",
   "execution_count": 5,
   "id": "324e06ac",
   "metadata": {},
   "outputs": [],
   "source": [
    "groups = orders_jan.groupby('comID')"
   ]
  },
  {
   "cell_type": "code",
   "execution_count": 6,
   "id": "2ced0279",
   "metadata": {},
   "outputs": [],
   "source": [
    "groups = list(groups)"
   ]
  },
  {
   "cell_type": "code",
   "execution_count": 8,
   "id": "dd3ae06a",
   "metadata": {},
   "outputs": [
    {
     "data": {
      "text/plain": [
       "(1071538, 5)"
      ]
     },
     "execution_count": 8,
     "metadata": {},
     "output_type": "execute_result"
    }
   ],
   "source": [
    "orders_jan.shape\n",
    "#len(groups)\n",
    "#group=groups[4]\n",
    "#display(group)\n",
    "#df = group[1]\n",
    "#display(df)\n",
    "#df['interval'] = df['date'].sub(df['date'].shift())\n",
    "#df['interval'].iloc[0] = df['date'].iloc[0]\n",
    "#display(df)"
   ]
  },
  {
   "cell_type": "code",
   "execution_count": 11,
   "id": "0d00fe2d",
   "metadata": {},
   "outputs": [],
   "source": [
    "#sub_group = groups[:10]\n",
    "i = 1\n",
    "import timeit"
   ]
  },
  {
   "cell_type": "code",
   "execution_count": 12,
   "id": "36a43e50",
   "metadata": {},
   "outputs": [
    {
     "name": "stderr",
     "output_type": "stream",
     "text": [
      "C:\\Users\\Martin\\anaconda3\\lib\\site-packages\\pandas\\core\\indexing.py:1637: SettingWithCopyWarning: \n",
      "A value is trying to be set on a copy of a slice from a DataFrame\n",
      "\n",
      "See the caveats in the documentation: https://pandas.pydata.org/pandas-docs/stable/user_guide/indexing.html#returning-a-view-versus-a-copy\n",
      "  self._setitem_single_block(indexer, value, name)\n"
     ]
    },
    {
     "data": {
      "text/plain": [
       "5000"
      ]
     },
     "metadata": {},
     "output_type": "display_data"
    },
    {
     "data": {
      "text/plain": [
       "10000"
      ]
     },
     "metadata": {},
     "output_type": "display_data"
    },
    {
     "data": {
      "text/plain": [
       "15000"
      ]
     },
     "metadata": {},
     "output_type": "display_data"
    },
    {
     "data": {
      "text/plain": [
       "20000"
      ]
     },
     "metadata": {},
     "output_type": "display_data"
    },
    {
     "data": {
      "text/plain": [
       "25000"
      ]
     },
     "metadata": {},
     "output_type": "display_data"
    },
    {
     "data": {
      "text/plain": [
       "30000"
      ]
     },
     "metadata": {},
     "output_type": "display_data"
    },
    {
     "data": {
      "text/plain": [
       "35000"
      ]
     },
     "metadata": {},
     "output_type": "display_data"
    },
    {
     "data": {
      "text/plain": [
       "40000"
      ]
     },
     "metadata": {},
     "output_type": "display_data"
    },
    {
     "data": {
      "text/plain": [
       "45000"
      ]
     },
     "metadata": {},
     "output_type": "display_data"
    },
    {
     "data": {
      "text/plain": [
       "50000"
      ]
     },
     "metadata": {},
     "output_type": "display_data"
    },
    {
     "data": {
      "text/plain": [
       "55000"
      ]
     },
     "metadata": {},
     "output_type": "display_data"
    },
    {
     "data": {
      "text/plain": [
       "60000"
      ]
     },
     "metadata": {},
     "output_type": "display_data"
    },
    {
     "data": {
      "text/plain": [
       "65000"
      ]
     },
     "metadata": {},
     "output_type": "display_data"
    },
    {
     "data": {
      "text/plain": [
       "70000"
      ]
     },
     "metadata": {},
     "output_type": "display_data"
    },
    {
     "data": {
      "text/plain": [
       "75000"
      ]
     },
     "metadata": {},
     "output_type": "display_data"
    },
    {
     "data": {
      "text/plain": [
       "80000"
      ]
     },
     "metadata": {},
     "output_type": "display_data"
    },
    {
     "data": {
      "text/plain": [
       "85000"
      ]
     },
     "metadata": {},
     "output_type": "display_data"
    },
    {
     "data": {
      "text/plain": [
       "90000"
      ]
     },
     "metadata": {},
     "output_type": "display_data"
    },
    {
     "data": {
      "text/plain": [
       "95000"
      ]
     },
     "metadata": {},
     "output_type": "display_data"
    },
    {
     "data": {
      "text/plain": [
       "100000"
      ]
     },
     "metadata": {},
     "output_type": "display_data"
    },
    {
     "data": {
      "text/plain": [
       "105000"
      ]
     },
     "metadata": {},
     "output_type": "display_data"
    },
    {
     "data": {
      "text/plain": [
       "110000"
      ]
     },
     "metadata": {},
     "output_type": "display_data"
    },
    {
     "data": {
      "text/plain": [
       "115000"
      ]
     },
     "metadata": {},
     "output_type": "display_data"
    },
    {
     "data": {
      "text/plain": [
       "120000"
      ]
     },
     "metadata": {},
     "output_type": "display_data"
    },
    {
     "data": {
      "text/plain": [
       "125000"
      ]
     },
     "metadata": {},
     "output_type": "display_data"
    },
    {
     "data": {
      "text/plain": [
       "130000"
      ]
     },
     "metadata": {},
     "output_type": "display_data"
    },
    {
     "data": {
      "text/plain": [
       "135000"
      ]
     },
     "metadata": {},
     "output_type": "display_data"
    },
    {
     "data": {
      "text/plain": [
       "140000"
      ]
     },
     "metadata": {},
     "output_type": "display_data"
    },
    {
     "data": {
      "text/plain": [
       "145000"
      ]
     },
     "metadata": {},
     "output_type": "display_data"
    },
    {
     "data": {
      "text/plain": [
       "150000"
      ]
     },
     "metadata": {},
     "output_type": "display_data"
    },
    {
     "data": {
      "text/plain": [
       "155000"
      ]
     },
     "metadata": {},
     "output_type": "display_data"
    },
    {
     "data": {
      "text/plain": [
       "160000"
      ]
     },
     "metadata": {},
     "output_type": "display_data"
    },
    {
     "data": {
      "text/plain": [
       "165000"
      ]
     },
     "metadata": {},
     "output_type": "display_data"
    },
    {
     "data": {
      "text/plain": [
       "170000"
      ]
     },
     "metadata": {},
     "output_type": "display_data"
    },
    {
     "data": {
      "text/plain": [
       "175000"
      ]
     },
     "metadata": {},
     "output_type": "display_data"
    },
    {
     "data": {
      "text/plain": [
       "180000"
      ]
     },
     "metadata": {},
     "output_type": "display_data"
    },
    {
     "data": {
      "text/plain": [
       "185000"
      ]
     },
     "metadata": {},
     "output_type": "display_data"
    },
    {
     "data": {
      "text/plain": [
       "190000"
      ]
     },
     "metadata": {},
     "output_type": "display_data"
    },
    {
     "data": {
      "text/plain": [
       "195000"
      ]
     },
     "metadata": {},
     "output_type": "display_data"
    },
    {
     "data": {
      "text/plain": [
       "200000"
      ]
     },
     "metadata": {},
     "output_type": "display_data"
    },
    {
     "data": {
      "text/plain": [
       "205000"
      ]
     },
     "metadata": {},
     "output_type": "display_data"
    },
    {
     "data": {
      "text/plain": [
       "210000"
      ]
     },
     "metadata": {},
     "output_type": "display_data"
    },
    {
     "data": {
      "text/plain": [
       "215000"
      ]
     },
     "metadata": {},
     "output_type": "display_data"
    },
    {
     "data": {
      "text/plain": [
       "220000"
      ]
     },
     "metadata": {},
     "output_type": "display_data"
    },
    {
     "data": {
      "text/plain": [
       "225000"
      ]
     },
     "metadata": {},
     "output_type": "display_data"
    },
    {
     "data": {
      "text/plain": [
       "230000"
      ]
     },
     "metadata": {},
     "output_type": "display_data"
    },
    {
     "data": {
      "text/plain": [
       "235000"
      ]
     },
     "metadata": {},
     "output_type": "display_data"
    },
    {
     "data": {
      "text/plain": [
       "240000"
      ]
     },
     "metadata": {},
     "output_type": "display_data"
    },
    {
     "data": {
      "text/plain": [
       "245000"
      ]
     },
     "metadata": {},
     "output_type": "display_data"
    },
    {
     "data": {
      "text/plain": [
       "250000"
      ]
     },
     "metadata": {},
     "output_type": "display_data"
    },
    {
     "data": {
      "text/plain": [
       "255000"
      ]
     },
     "metadata": {},
     "output_type": "display_data"
    },
    {
     "data": {
      "text/plain": [
       "260000"
      ]
     },
     "metadata": {},
     "output_type": "display_data"
    },
    {
     "data": {
      "text/plain": [
       "265000"
      ]
     },
     "metadata": {},
     "output_type": "display_data"
    },
    {
     "data": {
      "text/plain": [
       "270000"
      ]
     },
     "metadata": {},
     "output_type": "display_data"
    },
    {
     "data": {
      "text/plain": [
       "275000"
      ]
     },
     "metadata": {},
     "output_type": "display_data"
    },
    {
     "data": {
      "text/plain": [
       "280000"
      ]
     },
     "metadata": {},
     "output_type": "display_data"
    },
    {
     "data": {
      "text/plain": [
       "285000"
      ]
     },
     "metadata": {},
     "output_type": "display_data"
    },
    {
     "data": {
      "text/plain": [
       "290000"
      ]
     },
     "metadata": {},
     "output_type": "display_data"
    },
    {
     "data": {
      "text/plain": [
       "295000"
      ]
     },
     "metadata": {},
     "output_type": "display_data"
    },
    {
     "data": {
      "text/plain": [
       "300000"
      ]
     },
     "metadata": {},
     "output_type": "display_data"
    },
    {
     "data": {
      "text/plain": [
       "305000"
      ]
     },
     "metadata": {},
     "output_type": "display_data"
    },
    {
     "data": {
      "text/plain": [
       "310000"
      ]
     },
     "metadata": {},
     "output_type": "display_data"
    },
    {
     "data": {
      "text/plain": [
       "315000"
      ]
     },
     "metadata": {},
     "output_type": "display_data"
    },
    {
     "data": {
      "text/plain": [
       "320000"
      ]
     },
     "metadata": {},
     "output_type": "display_data"
    },
    {
     "data": {
      "text/plain": [
       "325000"
      ]
     },
     "metadata": {},
     "output_type": "display_data"
    },
    {
     "data": {
      "text/plain": [
       "330000"
      ]
     },
     "metadata": {},
     "output_type": "display_data"
    },
    {
     "data": {
      "text/plain": [
       "335000"
      ]
     },
     "metadata": {},
     "output_type": "display_data"
    },
    {
     "data": {
      "text/plain": [
       "340000"
      ]
     },
     "metadata": {},
     "output_type": "display_data"
    },
    {
     "data": {
      "text/plain": [
       "345000"
      ]
     },
     "metadata": {},
     "output_type": "display_data"
    },
    {
     "data": {
      "text/plain": [
       "350000"
      ]
     },
     "metadata": {},
     "output_type": "display_data"
    },
    {
     "data": {
      "text/plain": [
       "355000"
      ]
     },
     "metadata": {},
     "output_type": "display_data"
    },
    {
     "data": {
      "text/plain": [
       "360000"
      ]
     },
     "metadata": {},
     "output_type": "display_data"
    },
    {
     "data": {
      "text/plain": [
       "365000"
      ]
     },
     "metadata": {},
     "output_type": "display_data"
    },
    {
     "data": {
      "text/plain": [
       "370000"
      ]
     },
     "metadata": {},
     "output_type": "display_data"
    },
    {
     "data": {
      "text/plain": [
       "375000"
      ]
     },
     "metadata": {},
     "output_type": "display_data"
    },
    {
     "data": {
      "text/plain": [
       "380000"
      ]
     },
     "metadata": {},
     "output_type": "display_data"
    },
    {
     "data": {
      "text/plain": [
       "385000"
      ]
     },
     "metadata": {},
     "output_type": "display_data"
    },
    {
     "data": {
      "text/plain": [
       "390000"
      ]
     },
     "metadata": {},
     "output_type": "display_data"
    },
    {
     "data": {
      "text/plain": [
       "395000"
      ]
     },
     "metadata": {},
     "output_type": "display_data"
    },
    {
     "data": {
      "text/plain": [
       "400000"
      ]
     },
     "metadata": {},
     "output_type": "display_data"
    },
    {
     "data": {
      "text/plain": [
       "405000"
      ]
     },
     "metadata": {},
     "output_type": "display_data"
    },
    {
     "data": {
      "text/plain": [
       "410000"
      ]
     },
     "metadata": {},
     "output_type": "display_data"
    },
    {
     "data": {
      "text/plain": [
       "415000"
      ]
     },
     "metadata": {},
     "output_type": "display_data"
    },
    {
     "data": {
      "text/plain": [
       "420000"
      ]
     },
     "metadata": {},
     "output_type": "display_data"
    },
    {
     "data": {
      "text/plain": [
       "425000"
      ]
     },
     "metadata": {},
     "output_type": "display_data"
    },
    {
     "data": {
      "text/plain": [
       "430000"
      ]
     },
     "metadata": {},
     "output_type": "display_data"
    },
    {
     "data": {
      "text/plain": [
       "435000"
      ]
     },
     "metadata": {},
     "output_type": "display_data"
    },
    {
     "data": {
      "text/plain": [
       "440000"
      ]
     },
     "metadata": {},
     "output_type": "display_data"
    },
    {
     "data": {
      "text/plain": [
       "445000"
      ]
     },
     "metadata": {},
     "output_type": "display_data"
    },
    {
     "data": {
      "text/plain": [
       "450000"
      ]
     },
     "metadata": {},
     "output_type": "display_data"
    },
    {
     "data": {
      "text/plain": [
       "455000"
      ]
     },
     "metadata": {},
     "output_type": "display_data"
    },
    {
     "data": {
      "text/plain": [
       "460000"
      ]
     },
     "metadata": {},
     "output_type": "display_data"
    },
    {
     "data": {
      "text/plain": [
       "465000"
      ]
     },
     "metadata": {},
     "output_type": "display_data"
    },
    {
     "data": {
      "text/plain": [
       "470000"
      ]
     },
     "metadata": {},
     "output_type": "display_data"
    },
    {
     "data": {
      "text/plain": [
       "475000"
      ]
     },
     "metadata": {},
     "output_type": "display_data"
    },
    {
     "data": {
      "text/plain": [
       "480000"
      ]
     },
     "metadata": {},
     "output_type": "display_data"
    },
    {
     "data": {
      "text/plain": [
       "485000"
      ]
     },
     "metadata": {},
     "output_type": "display_data"
    },
    {
     "data": {
      "text/plain": [
       "490000"
      ]
     },
     "metadata": {},
     "output_type": "display_data"
    },
    {
     "data": {
      "text/plain": [
       "495000"
      ]
     },
     "metadata": {},
     "output_type": "display_data"
    },
    {
     "data": {
      "text/plain": [
       "500000"
      ]
     },
     "metadata": {},
     "output_type": "display_data"
    },
    {
     "data": {
      "text/plain": [
       "505000"
      ]
     },
     "metadata": {},
     "output_type": "display_data"
    },
    {
     "data": {
      "text/plain": [
       "510000"
      ]
     },
     "metadata": {},
     "output_type": "display_data"
    },
    {
     "data": {
      "text/plain": [
       "515000"
      ]
     },
     "metadata": {},
     "output_type": "display_data"
    },
    {
     "data": {
      "text/plain": [
       "520000"
      ]
     },
     "metadata": {},
     "output_type": "display_data"
    },
    {
     "data": {
      "text/plain": [
       "525000"
      ]
     },
     "metadata": {},
     "output_type": "display_data"
    },
    {
     "data": {
      "text/plain": [
       "530000"
      ]
     },
     "metadata": {},
     "output_type": "display_data"
    },
    {
     "data": {
      "text/plain": [
       "535000"
      ]
     },
     "metadata": {},
     "output_type": "display_data"
    },
    {
     "data": {
      "text/plain": [
       "540000"
      ]
     },
     "metadata": {},
     "output_type": "display_data"
    },
    {
     "data": {
      "text/plain": [
       "545000"
      ]
     },
     "metadata": {},
     "output_type": "display_data"
    },
    {
     "data": {
      "text/plain": [
       "550000"
      ]
     },
     "metadata": {},
     "output_type": "display_data"
    },
    {
     "data": {
      "text/plain": [
       "555000"
      ]
     },
     "metadata": {},
     "output_type": "display_data"
    },
    {
     "data": {
      "text/plain": [
       "560000"
      ]
     },
     "metadata": {},
     "output_type": "display_data"
    },
    {
     "data": {
      "text/plain": [
       "565000"
      ]
     },
     "metadata": {},
     "output_type": "display_data"
    },
    {
     "data": {
      "text/plain": [
       "570000"
      ]
     },
     "metadata": {},
     "output_type": "display_data"
    },
    {
     "data": {
      "text/plain": [
       "575000"
      ]
     },
     "metadata": {},
     "output_type": "display_data"
    },
    {
     "data": {
      "text/plain": [
       "580000"
      ]
     },
     "metadata": {},
     "output_type": "display_data"
    },
    {
     "data": {
      "text/plain": [
       "585000"
      ]
     },
     "metadata": {},
     "output_type": "display_data"
    },
    {
     "data": {
      "text/plain": [
       "590000"
      ]
     },
     "metadata": {},
     "output_type": "display_data"
    },
    {
     "data": {
      "text/plain": [
       "595000"
      ]
     },
     "metadata": {},
     "output_type": "display_data"
    },
    {
     "data": {
      "text/plain": [
       "600000"
      ]
     },
     "metadata": {},
     "output_type": "display_data"
    },
    {
     "data": {
      "text/plain": [
       "605000"
      ]
     },
     "metadata": {},
     "output_type": "display_data"
    },
    {
     "data": {
      "text/plain": [
       "610000"
      ]
     },
     "metadata": {},
     "output_type": "display_data"
    },
    {
     "data": {
      "text/plain": [
       "615000"
      ]
     },
     "metadata": {},
     "output_type": "display_data"
    },
    {
     "data": {
      "text/plain": [
       "620000"
      ]
     },
     "metadata": {},
     "output_type": "display_data"
    },
    {
     "data": {
      "text/plain": [
       "625000"
      ]
     },
     "metadata": {},
     "output_type": "display_data"
    },
    {
     "data": {
      "text/plain": [
       "630000"
      ]
     },
     "metadata": {},
     "output_type": "display_data"
    },
    {
     "data": {
      "text/plain": [
       "635000"
      ]
     },
     "metadata": {},
     "output_type": "display_data"
    },
    {
     "data": {
      "text/plain": [
       "640000"
      ]
     },
     "metadata": {},
     "output_type": "display_data"
    },
    {
     "data": {
      "text/plain": [
       "645000"
      ]
     },
     "metadata": {},
     "output_type": "display_data"
    },
    {
     "data": {
      "text/plain": [
       "650000"
      ]
     },
     "metadata": {},
     "output_type": "display_data"
    },
    {
     "data": {
      "text/plain": [
       "655000"
      ]
     },
     "metadata": {},
     "output_type": "display_data"
    },
    {
     "data": {
      "text/plain": [
       "660000"
      ]
     },
     "metadata": {},
     "output_type": "display_data"
    },
    {
     "data": {
      "text/plain": [
       "665000"
      ]
     },
     "metadata": {},
     "output_type": "display_data"
    },
    {
     "data": {
      "text/plain": [
       "670000"
      ]
     },
     "metadata": {},
     "output_type": "display_data"
    },
    {
     "data": {
      "text/plain": [
       "675000"
      ]
     },
     "metadata": {},
     "output_type": "display_data"
    },
    {
     "data": {
      "text/plain": [
       "680000"
      ]
     },
     "metadata": {},
     "output_type": "display_data"
    },
    {
     "data": {
      "text/plain": [
       "685000"
      ]
     },
     "metadata": {},
     "output_type": "display_data"
    },
    {
     "data": {
      "text/plain": [
       "690000"
      ]
     },
     "metadata": {},
     "output_type": "display_data"
    },
    {
     "data": {
      "text/plain": [
       "695000"
      ]
     },
     "metadata": {},
     "output_type": "display_data"
    },
    {
     "data": {
      "text/plain": [
       "700000"
      ]
     },
     "metadata": {},
     "output_type": "display_data"
    },
    {
     "data": {
      "text/plain": [
       "705000"
      ]
     },
     "metadata": {},
     "output_type": "display_data"
    },
    {
     "data": {
      "text/plain": [
       "710000"
      ]
     },
     "metadata": {},
     "output_type": "display_data"
    },
    {
     "data": {
      "text/plain": [
       "715000"
      ]
     },
     "metadata": {},
     "output_type": "display_data"
    },
    {
     "data": {
      "text/plain": [
       "720000"
      ]
     },
     "metadata": {},
     "output_type": "display_data"
    },
    {
     "data": {
      "text/plain": [
       "725000"
      ]
     },
     "metadata": {},
     "output_type": "display_data"
    },
    {
     "data": {
      "text/plain": [
       "730000"
      ]
     },
     "metadata": {},
     "output_type": "display_data"
    },
    {
     "data": {
      "text/plain": [
       "735000"
      ]
     },
     "metadata": {},
     "output_type": "display_data"
    },
    {
     "data": {
      "text/plain": [
       "740000"
      ]
     },
     "metadata": {},
     "output_type": "display_data"
    },
    {
     "data": {
      "text/plain": [
       "745000"
      ]
     },
     "metadata": {},
     "output_type": "display_data"
    },
    {
     "data": {
      "text/plain": [
       "750000"
      ]
     },
     "metadata": {},
     "output_type": "display_data"
    },
    {
     "data": {
      "text/plain": [
       "755000"
      ]
     },
     "metadata": {},
     "output_type": "display_data"
    },
    {
     "data": {
      "text/plain": [
       "760000"
      ]
     },
     "metadata": {},
     "output_type": "display_data"
    },
    {
     "data": {
      "text/plain": [
       "765000"
      ]
     },
     "metadata": {},
     "output_type": "display_data"
    },
    {
     "data": {
      "text/plain": [
       "770000"
      ]
     },
     "metadata": {},
     "output_type": "display_data"
    },
    {
     "data": {
      "text/plain": [
       "775000"
      ]
     },
     "metadata": {},
     "output_type": "display_data"
    },
    {
     "data": {
      "text/plain": [
       "780000"
      ]
     },
     "metadata": {},
     "output_type": "display_data"
    },
    {
     "data": {
      "text/plain": [
       "785000"
      ]
     },
     "metadata": {},
     "output_type": "display_data"
    },
    {
     "data": {
      "text/plain": [
       "790000"
      ]
     },
     "metadata": {},
     "output_type": "display_data"
    },
    {
     "data": {
      "text/plain": [
       "795000"
      ]
     },
     "metadata": {},
     "output_type": "display_data"
    },
    {
     "data": {
      "text/plain": [
       "800000"
      ]
     },
     "metadata": {},
     "output_type": "display_data"
    },
    {
     "data": {
      "text/plain": [
       "805000"
      ]
     },
     "metadata": {},
     "output_type": "display_data"
    },
    {
     "data": {
      "text/plain": [
       "810000"
      ]
     },
     "metadata": {},
     "output_type": "display_data"
    },
    {
     "data": {
      "text/plain": [
       "815000"
      ]
     },
     "metadata": {},
     "output_type": "display_data"
    },
    {
     "data": {
      "text/plain": [
       "820000"
      ]
     },
     "metadata": {},
     "output_type": "display_data"
    },
    {
     "data": {
      "text/plain": [
       "825000"
      ]
     },
     "metadata": {},
     "output_type": "display_data"
    },
    {
     "data": {
      "text/plain": [
       "830000"
      ]
     },
     "metadata": {},
     "output_type": "display_data"
    },
    {
     "data": {
      "text/plain": [
       "835000"
      ]
     },
     "metadata": {},
     "output_type": "display_data"
    },
    {
     "data": {
      "text/plain": [
       "840000"
      ]
     },
     "metadata": {},
     "output_type": "display_data"
    },
    {
     "data": {
      "text/plain": [
       "845000"
      ]
     },
     "metadata": {},
     "output_type": "display_data"
    },
    {
     "data": {
      "text/plain": [
       "850000"
      ]
     },
     "metadata": {},
     "output_type": "display_data"
    },
    {
     "data": {
      "text/plain": [
       "855000"
      ]
     },
     "metadata": {},
     "output_type": "display_data"
    },
    {
     "data": {
      "text/plain": [
       "860000"
      ]
     },
     "metadata": {},
     "output_type": "display_data"
    },
    {
     "data": {
      "text/plain": [
       "865000"
      ]
     },
     "metadata": {},
     "output_type": "display_data"
    },
    {
     "data": {
      "text/plain": [
       "870000"
      ]
     },
     "metadata": {},
     "output_type": "display_data"
    },
    {
     "data": {
      "text/plain": [
       "875000"
      ]
     },
     "metadata": {},
     "output_type": "display_data"
    },
    {
     "data": {
      "text/plain": [
       "880000"
      ]
     },
     "metadata": {},
     "output_type": "display_data"
    },
    {
     "data": {
      "text/plain": [
       "885000"
      ]
     },
     "metadata": {},
     "output_type": "display_data"
    },
    {
     "data": {
      "text/plain": [
       "890000"
      ]
     },
     "metadata": {},
     "output_type": "display_data"
    },
    {
     "data": {
      "text/plain": [
       "895000"
      ]
     },
     "metadata": {},
     "output_type": "display_data"
    },
    {
     "data": {
      "text/plain": [
       "33845.487722800004"
      ]
     },
     "metadata": {},
     "output_type": "display_data"
    }
   ],
   "source": [
    "start = timeit.default_timer()\n",
    "new_orders = pd.DataFrame()  \n",
    "for group in groups:\n",
    "    df = group[1]\n",
    "    df['interval'] = df['date'].sub(df['date'].shift())\n",
    "    df['interval'].iloc[0] = df['date'].iloc[0]\n",
    "    new_orders = new_orders.append(df)\n",
    "    i = i + 1\n",
    "    if(i % 5000 == 0):\n",
    "        display(i)\n",
    "    #new_orders.append(df)\n",
    "\n",
    "new_orders.to_csv('newOrders_jan.csv', encoding = 'utf-8')\n",
    "stop = timeit.default_timer()\n",
    "display(stop-start)"
   ]
  },
  {
   "cell_type": "code",
   "execution_count": 13,
   "id": "e1c8d5d2",
   "metadata": {},
   "outputs": [],
   "source": [
    "new_orders.to_csv('newOrders.csv', encoding = 'utf-8')"
   ]
  },
  {
   "cell_type": "code",
   "execution_count": 15,
   "id": "70e367ef",
   "metadata": {},
   "outputs": [
    {
     "data": {
      "text/html": [
       "<div>\n",
       "<style scoped>\n",
       "    .dataframe tbody tr th:only-of-type {\n",
       "        vertical-align: middle;\n",
       "    }\n",
       "\n",
       "    .dataframe tbody tr th {\n",
       "        vertical-align: top;\n",
       "    }\n",
       "\n",
       "    .dataframe thead th {\n",
       "        text-align: right;\n",
       "    }\n",
       "</style>\n",
       "<table border=\"1\" class=\"dataframe\">\n",
       "  <thead>\n",
       "    <tr style=\"text-align: right;\">\n",
       "      <th></th>\n",
       "      <th>date</th>\n",
       "      <th>userID</th>\n",
       "      <th>itemID</th>\n",
       "      <th>order</th>\n",
       "      <th>comID</th>\n",
       "      <th>interval</th>\n",
       "    </tr>\n",
       "  </thead>\n",
       "  <tbody>\n",
       "    <tr>\n",
       "      <th>268197</th>\n",
       "      <td>2020-08-03</td>\n",
       "      <td>0</td>\n",
       "      <td>12468</td>\n",
       "      <td>1</td>\n",
       "      <td>012468</td>\n",
       "      <td>2020-08-03 00:00:00</td>\n",
       "    </tr>\n",
       "    <tr>\n",
       "      <th>334333</th>\n",
       "      <td>2020-08-18</td>\n",
       "      <td>0</td>\n",
       "      <td>12505</td>\n",
       "      <td>1</td>\n",
       "      <td>012505</td>\n",
       "      <td>2020-08-18 00:00:00</td>\n",
       "    </tr>\n",
       "    <tr>\n",
       "      <th>1031053</th>\n",
       "      <td>2021-01-25</td>\n",
       "      <td>0</td>\n",
       "      <td>13146</td>\n",
       "      <td>2</td>\n",
       "      <td>013146</td>\n",
       "      <td>2021-01-25 00:00:00</td>\n",
       "    </tr>\n",
       "    <tr>\n",
       "      <th>390966</th>\n",
       "      <td>2020-09-01</td>\n",
       "      <td>0</td>\n",
       "      <td>1505</td>\n",
       "      <td>1</td>\n",
       "      <td>01505</td>\n",
       "      <td>2020-09-01 00:00:00</td>\n",
       "    </tr>\n",
       "    <tr>\n",
       "      <th>268196</th>\n",
       "      <td>2020-08-03</td>\n",
       "      <td>0</td>\n",
       "      <td>15083</td>\n",
       "      <td>1</td>\n",
       "      <td>015083</td>\n",
       "      <td>2020-08-03 00:00:00</td>\n",
       "    </tr>\n",
       "    <tr>\n",
       "      <th>22146</th>\n",
       "      <td>2020-06-05</td>\n",
       "      <td>0</td>\n",
       "      <td>20664</td>\n",
       "      <td>1</td>\n",
       "      <td>020664</td>\n",
       "      <td>2020-06-05 00:00:00</td>\n",
       "    </tr>\n",
       "    <tr>\n",
       "      <th>540881</th>\n",
       "      <td>2020-10-09</td>\n",
       "      <td>0</td>\n",
       "      <td>20664</td>\n",
       "      <td>1</td>\n",
       "      <td>020664</td>\n",
       "      <td>126 days 00:00:00</td>\n",
       "    </tr>\n",
       "    <tr>\n",
       "      <th>819668</th>\n",
       "      <td>2020-12-11</td>\n",
       "      <td>0</td>\n",
       "      <td>20664</td>\n",
       "      <td>1</td>\n",
       "      <td>020664</td>\n",
       "      <td>63 days 00:00:00</td>\n",
       "    </tr>\n",
       "    <tr>\n",
       "      <th>540880</th>\n",
       "      <td>2020-10-09</td>\n",
       "      <td>0</td>\n",
       "      <td>26387</td>\n",
       "      <td>1</td>\n",
       "      <td>026387</td>\n",
       "      <td>2020-10-09 00:00:00</td>\n",
       "    </tr>\n",
       "    <tr>\n",
       "      <th>709720</th>\n",
       "      <td>2020-11-20</td>\n",
       "      <td>0</td>\n",
       "      <td>28231</td>\n",
       "      <td>1</td>\n",
       "      <td>028231</td>\n",
       "      <td>2020-11-20 00:00:00</td>\n",
       "    </tr>\n",
       "    <tr>\n",
       "      <th>819666</th>\n",
       "      <td>2020-12-11</td>\n",
       "      <td>0</td>\n",
       "      <td>28231</td>\n",
       "      <td>1</td>\n",
       "      <td>028231</td>\n",
       "      <td>21 days 00:00:00</td>\n",
       "    </tr>\n",
       "    <tr>\n",
       "      <th>1031088</th>\n",
       "      <td>2021-01-25</td>\n",
       "      <td>0</td>\n",
       "      <td>28231</td>\n",
       "      <td>2</td>\n",
       "      <td>028231</td>\n",
       "      <td>45 days 00:00:00</td>\n",
       "    </tr>\n",
       "    <tr>\n",
       "      <th>978366</th>\n",
       "      <td>2021-01-15</td>\n",
       "      <td>0</td>\n",
       "      <td>29956</td>\n",
       "      <td>1</td>\n",
       "      <td>029956</td>\n",
       "      <td>2021-01-15 00:00:00</td>\n",
       "    </tr>\n",
       "    <tr>\n",
       "      <th>779709</th>\n",
       "      <td>2020-12-04</td>\n",
       "      <td>0</td>\n",
       "      <td>31683</td>\n",
       "      <td>1</td>\n",
       "      <td>031683</td>\n",
       "      <td>2020-12-04 00:00:00</td>\n",
       "    </tr>\n",
       "    <tr>\n",
       "      <th>779710</th>\n",
       "      <td>2020-12-04</td>\n",
       "      <td>0</td>\n",
       "      <td>31923</td>\n",
       "      <td>1</td>\n",
       "      <td>031923</td>\n",
       "      <td>2020-12-04 00:00:00</td>\n",
       "    </tr>\n",
       "    <tr>\n",
       "      <th>819667</th>\n",
       "      <td>2020-12-11</td>\n",
       "      <td>0</td>\n",
       "      <td>6446</td>\n",
       "      <td>1</td>\n",
       "      <td>06446</td>\n",
       "      <td>2020-12-11 00:00:00</td>\n",
       "    </tr>\n",
       "    <tr>\n",
       "      <th>978365</th>\n",
       "      <td>2021-01-15</td>\n",
       "      <td>0</td>\n",
       "      <td>6446</td>\n",
       "      <td>1</td>\n",
       "      <td>06446</td>\n",
       "      <td>35 days 00:00:00</td>\n",
       "    </tr>\n",
       "    <tr>\n",
       "      <th>709719</th>\n",
       "      <td>2020-11-20</td>\n",
       "      <td>0</td>\n",
       "      <td>9325</td>\n",
       "      <td>1</td>\n",
       "      <td>09325</td>\n",
       "      <td>2020-11-20 00:00:00</td>\n",
       "    </tr>\n",
       "    <tr>\n",
       "      <th>812071</th>\n",
       "      <td>2020-12-10</td>\n",
       "      <td>10000</td>\n",
       "      <td>17512</td>\n",
       "      <td>1</td>\n",
       "      <td>1000017512</td>\n",
       "      <td>2020-12-10 00:00:00</td>\n",
       "    </tr>\n",
       "    <tr>\n",
       "      <th>528595</th>\n",
       "      <td>2020-10-05</td>\n",
       "      <td>10000</td>\n",
       "      <td>21690</td>\n",
       "      <td>1</td>\n",
       "      <td>1000021690</td>\n",
       "      <td>2020-10-05 00:00:00</td>\n",
       "    </tr>\n",
       "    <tr>\n",
       "      <th>310881</th>\n",
       "      <td>2020-08-13</td>\n",
       "      <td>10000</td>\n",
       "      <td>23148</td>\n",
       "      <td>1</td>\n",
       "      <td>1000023148</td>\n",
       "      <td>2020-08-13 00:00:00</td>\n",
       "    </tr>\n",
       "    <tr>\n",
       "      <th>528593</th>\n",
       "      <td>2020-10-05</td>\n",
       "      <td>10000</td>\n",
       "      <td>23148</td>\n",
       "      <td>1</td>\n",
       "      <td>1000023148</td>\n",
       "      <td>53 days 00:00:00</td>\n",
       "    </tr>\n",
       "    <tr>\n",
       "      <th>448618</th>\n",
       "      <td>2020-09-16</td>\n",
       "      <td>10000</td>\n",
       "      <td>27866</td>\n",
       "      <td>3</td>\n",
       "      <td>1000027866</td>\n",
       "      <td>2020-09-16 00:00:00</td>\n",
       "    </tr>\n",
       "    <tr>\n",
       "      <th>448617</th>\n",
       "      <td>2020-09-16</td>\n",
       "      <td>10000</td>\n",
       "      <td>29657</td>\n",
       "      <td>2</td>\n",
       "      <td>1000029657</td>\n",
       "      <td>2020-09-16 00:00:00</td>\n",
       "    </tr>\n",
       "    <tr>\n",
       "      <th>812072</th>\n",
       "      <td>2020-12-10</td>\n",
       "      <td>10000</td>\n",
       "      <td>4879</td>\n",
       "      <td>1</td>\n",
       "      <td>100004879</td>\n",
       "      <td>2020-12-10 00:00:00</td>\n",
       "    </tr>\n",
       "    <tr>\n",
       "      <th>310880</th>\n",
       "      <td>2020-08-13</td>\n",
       "      <td>10000</td>\n",
       "      <td>6</td>\n",
       "      <td>1</td>\n",
       "      <td>100006</td>\n",
       "      <td>2020-08-13 00:00:00</td>\n",
       "    </tr>\n",
       "    <tr>\n",
       "      <th>528594</th>\n",
       "      <td>2020-10-05</td>\n",
       "      <td>10000</td>\n",
       "      <td>6</td>\n",
       "      <td>1</td>\n",
       "      <td>100006</td>\n",
       "      <td>53 days 00:00:00</td>\n",
       "    </tr>\n",
       "    <tr>\n",
       "      <th>218115</th>\n",
       "      <td>2020-07-21</td>\n",
       "      <td>10001</td>\n",
       "      <td>10364</td>\n",
       "      <td>1</td>\n",
       "      <td>1000110364</td>\n",
       "      <td>2020-07-21 00:00:00</td>\n",
       "    </tr>\n",
       "    <tr>\n",
       "      <th>45413</th>\n",
       "      <td>2020-06-12</td>\n",
       "      <td>10001</td>\n",
       "      <td>10961</td>\n",
       "      <td>1</td>\n",
       "      <td>1000110961</td>\n",
       "      <td>2020-06-12 00:00:00</td>\n",
       "    </tr>\n",
       "    <tr>\n",
       "      <th>693467</th>\n",
       "      <td>2020-11-15</td>\n",
       "      <td>10001</td>\n",
       "      <td>12214</td>\n",
       "      <td>1</td>\n",
       "      <td>1000112214</td>\n",
       "      <td>2020-11-15 00:00:00</td>\n",
       "    </tr>\n",
       "    <tr>\n",
       "      <th>614691</th>\n",
       "      <td>2020-10-26</td>\n",
       "      <td>10001</td>\n",
       "      <td>13825</td>\n",
       "      <td>1</td>\n",
       "      <td>1000113825</td>\n",
       "      <td>2020-10-26 00:00:00</td>\n",
       "    </tr>\n",
       "    <tr>\n",
       "      <th>45411</th>\n",
       "      <td>2020-06-12</td>\n",
       "      <td>10001</td>\n",
       "      <td>14684</td>\n",
       "      <td>2</td>\n",
       "      <td>1000114684</td>\n",
       "      <td>2020-06-12 00:00:00</td>\n",
       "    </tr>\n",
       "    <tr>\n",
       "      <th>51932</th>\n",
       "      <td>2020-06-13</td>\n",
       "      <td>10001</td>\n",
       "      <td>16972</td>\n",
       "      <td>1</td>\n",
       "      <td>1000116972</td>\n",
       "      <td>2020-06-13 00:00:00</td>\n",
       "    </tr>\n",
       "    <tr>\n",
       "      <th>394093</th>\n",
       "      <td>2020-09-02</td>\n",
       "      <td>10001</td>\n",
       "      <td>1732</td>\n",
       "      <td>1</td>\n",
       "      <td>100011732</td>\n",
       "      <td>2020-09-02 00:00:00</td>\n",
       "    </tr>\n",
       "    <tr>\n",
       "      <th>51930</th>\n",
       "      <td>2020-06-13</td>\n",
       "      <td>10001</td>\n",
       "      <td>17672</td>\n",
       "      <td>1</td>\n",
       "      <td>1000117672</td>\n",
       "      <td>2020-06-13 00:00:00</td>\n",
       "    </tr>\n",
       "    <tr>\n",
       "      <th>218108</th>\n",
       "      <td>2020-07-21</td>\n",
       "      <td>10001</td>\n",
       "      <td>2113</td>\n",
       "      <td>2</td>\n",
       "      <td>100012113</td>\n",
       "      <td>2020-07-21 00:00:00</td>\n",
       "    </tr>\n",
       "    <tr>\n",
       "      <th>401243</th>\n",
       "      <td>2020-09-04</td>\n",
       "      <td>10001</td>\n",
       "      <td>2113</td>\n",
       "      <td>2</td>\n",
       "      <td>100012113</td>\n",
       "      <td>45 days 00:00:00</td>\n",
       "    </tr>\n",
       "    <tr>\n",
       "      <th>955639</th>\n",
       "      <td>2021-01-10</td>\n",
       "      <td>10001</td>\n",
       "      <td>2113</td>\n",
       "      <td>1</td>\n",
       "      <td>100012113</td>\n",
       "      <td>128 days 00:00:00</td>\n",
       "    </tr>\n",
       "    <tr>\n",
       "      <th>957674</th>\n",
       "      <td>2021-01-11</td>\n",
       "      <td>1000</td>\n",
       "      <td>12140</td>\n",
       "      <td>1</td>\n",
       "      <td>100012140</td>\n",
       "      <td>2021-01-11 00:00:00</td>\n",
       "    </tr>\n",
       "    <tr>\n",
       "      <th>78066</th>\n",
       "      <td>2020-06-19</td>\n",
       "      <td>10001</td>\n",
       "      <td>22754</td>\n",
       "      <td>2</td>\n",
       "      <td>1000122754</td>\n",
       "      <td>2020-06-19 00:00:00</td>\n",
       "    </tr>\n",
       "    <tr>\n",
       "      <th>401268</th>\n",
       "      <td>2020-09-04</td>\n",
       "      <td>10001</td>\n",
       "      <td>22754</td>\n",
       "      <td>2</td>\n",
       "      <td>1000122754</td>\n",
       "      <td>77 days 00:00:00</td>\n",
       "    </tr>\n",
       "    <tr>\n",
       "      <th>955641</th>\n",
       "      <td>2021-01-10</td>\n",
       "      <td>10001</td>\n",
       "      <td>22754</td>\n",
       "      <td>3</td>\n",
       "      <td>1000122754</td>\n",
       "      <td>128 days 00:00:00</td>\n",
       "    </tr>\n",
       "    <tr>\n",
       "      <th>614701</th>\n",
       "      <td>2020-10-26</td>\n",
       "      <td>10001</td>\n",
       "      <td>23686</td>\n",
       "      <td>1</td>\n",
       "      <td>1000123686</td>\n",
       "      <td>2020-10-26 00:00:00</td>\n",
       "    </tr>\n",
       "    <tr>\n",
       "      <th>218107</th>\n",
       "      <td>2020-07-21</td>\n",
       "      <td>10001</td>\n",
       "      <td>24528</td>\n",
       "      <td>2</td>\n",
       "      <td>1000124528</td>\n",
       "      <td>2020-07-21 00:00:00</td>\n",
       "    </tr>\n",
       "    <tr>\n",
       "      <th>693466</th>\n",
       "      <td>2020-11-15</td>\n",
       "      <td>10001</td>\n",
       "      <td>28137</td>\n",
       "      <td>5</td>\n",
       "      <td>1000128137</td>\n",
       "      <td>2020-11-15 00:00:00</td>\n",
       "    </tr>\n",
       "    <tr>\n",
       "      <th>45412</th>\n",
       "      <td>2020-06-12</td>\n",
       "      <td>10001</td>\n",
       "      <td>28333</td>\n",
       "      <td>2</td>\n",
       "      <td>1000128333</td>\n",
       "      <td>2020-06-12 00:00:00</td>\n",
       "    </tr>\n",
       "    <tr>\n",
       "      <th>51931</th>\n",
       "      <td>2020-06-13</td>\n",
       "      <td>10001</td>\n",
       "      <td>29820</td>\n",
       "      <td>1</td>\n",
       "      <td>1000129820</td>\n",
       "      <td>2020-06-13 00:00:00</td>\n",
       "    </tr>\n",
       "    <tr>\n",
       "      <th>218110</th>\n",
       "      <td>2020-07-21</td>\n",
       "      <td>10001</td>\n",
       "      <td>29820</td>\n",
       "      <td>1</td>\n",
       "      <td>1000129820</td>\n",
       "      <td>38 days 00:00:00</td>\n",
       "    </tr>\n",
       "    <tr>\n",
       "      <th>353400</th>\n",
       "      <td>2020-08-23</td>\n",
       "      <td>10001</td>\n",
       "      <td>4156</td>\n",
       "      <td>3</td>\n",
       "      <td>100014156</td>\n",
       "      <td>2020-08-23 00:00:00</td>\n",
       "    </tr>\n",
       "    <tr>\n",
       "      <th>394078</th>\n",
       "      <td>2020-09-02</td>\n",
       "      <td>10001</td>\n",
       "      <td>550</td>\n",
       "      <td>1</td>\n",
       "      <td>10001550</td>\n",
       "      <td>2020-09-02 00:00:00</td>\n",
       "    </tr>\n",
       "  </tbody>\n",
       "</table>\n",
       "</div>"
      ],
      "text/plain": [
       "              date  userID  itemID  order       comID             interval\n",
       "268197  2020-08-03       0   12468      1      012468  2020-08-03 00:00:00\n",
       "334333  2020-08-18       0   12505      1      012505  2020-08-18 00:00:00\n",
       "1031053 2021-01-25       0   13146      2      013146  2021-01-25 00:00:00\n",
       "390966  2020-09-01       0    1505      1       01505  2020-09-01 00:00:00\n",
       "268196  2020-08-03       0   15083      1      015083  2020-08-03 00:00:00\n",
       "22146   2020-06-05       0   20664      1      020664  2020-06-05 00:00:00\n",
       "540881  2020-10-09       0   20664      1      020664    126 days 00:00:00\n",
       "819668  2020-12-11       0   20664      1      020664     63 days 00:00:00\n",
       "540880  2020-10-09       0   26387      1      026387  2020-10-09 00:00:00\n",
       "709720  2020-11-20       0   28231      1      028231  2020-11-20 00:00:00\n",
       "819666  2020-12-11       0   28231      1      028231     21 days 00:00:00\n",
       "1031088 2021-01-25       0   28231      2      028231     45 days 00:00:00\n",
       "978366  2021-01-15       0   29956      1      029956  2021-01-15 00:00:00\n",
       "779709  2020-12-04       0   31683      1      031683  2020-12-04 00:00:00\n",
       "779710  2020-12-04       0   31923      1      031923  2020-12-04 00:00:00\n",
       "819667  2020-12-11       0    6446      1       06446  2020-12-11 00:00:00\n",
       "978365  2021-01-15       0    6446      1       06446     35 days 00:00:00\n",
       "709719  2020-11-20       0    9325      1       09325  2020-11-20 00:00:00\n",
       "812071  2020-12-10   10000   17512      1  1000017512  2020-12-10 00:00:00\n",
       "528595  2020-10-05   10000   21690      1  1000021690  2020-10-05 00:00:00\n",
       "310881  2020-08-13   10000   23148      1  1000023148  2020-08-13 00:00:00\n",
       "528593  2020-10-05   10000   23148      1  1000023148     53 days 00:00:00\n",
       "448618  2020-09-16   10000   27866      3  1000027866  2020-09-16 00:00:00\n",
       "448617  2020-09-16   10000   29657      2  1000029657  2020-09-16 00:00:00\n",
       "812072  2020-12-10   10000    4879      1   100004879  2020-12-10 00:00:00\n",
       "310880  2020-08-13   10000       6      1      100006  2020-08-13 00:00:00\n",
       "528594  2020-10-05   10000       6      1      100006     53 days 00:00:00\n",
       "218115  2020-07-21   10001   10364      1  1000110364  2020-07-21 00:00:00\n",
       "45413   2020-06-12   10001   10961      1  1000110961  2020-06-12 00:00:00\n",
       "693467  2020-11-15   10001   12214      1  1000112214  2020-11-15 00:00:00\n",
       "614691  2020-10-26   10001   13825      1  1000113825  2020-10-26 00:00:00\n",
       "45411   2020-06-12   10001   14684      2  1000114684  2020-06-12 00:00:00\n",
       "51932   2020-06-13   10001   16972      1  1000116972  2020-06-13 00:00:00\n",
       "394093  2020-09-02   10001    1732      1   100011732  2020-09-02 00:00:00\n",
       "51930   2020-06-13   10001   17672      1  1000117672  2020-06-13 00:00:00\n",
       "218108  2020-07-21   10001    2113      2   100012113  2020-07-21 00:00:00\n",
       "401243  2020-09-04   10001    2113      2   100012113     45 days 00:00:00\n",
       "955639  2021-01-10   10001    2113      1   100012113    128 days 00:00:00\n",
       "957674  2021-01-11    1000   12140      1   100012140  2021-01-11 00:00:00\n",
       "78066   2020-06-19   10001   22754      2  1000122754  2020-06-19 00:00:00\n",
       "401268  2020-09-04   10001   22754      2  1000122754     77 days 00:00:00\n",
       "955641  2021-01-10   10001   22754      3  1000122754    128 days 00:00:00\n",
       "614701  2020-10-26   10001   23686      1  1000123686  2020-10-26 00:00:00\n",
       "218107  2020-07-21   10001   24528      2  1000124528  2020-07-21 00:00:00\n",
       "693466  2020-11-15   10001   28137      5  1000128137  2020-11-15 00:00:00\n",
       "45412   2020-06-12   10001   28333      2  1000128333  2020-06-12 00:00:00\n",
       "51931   2020-06-13   10001   29820      1  1000129820  2020-06-13 00:00:00\n",
       "218110  2020-07-21   10001   29820      1  1000129820     38 days 00:00:00\n",
       "353400  2020-08-23   10001    4156      3   100014156  2020-08-23 00:00:00\n",
       "394078  2020-09-02   10001     550      1    10001550  2020-09-02 00:00:00"
      ]
     },
     "metadata": {},
     "output_type": "display_data"
    }
   ],
   "source": [
    "display(new_orders[:50])"
   ]
  },
  {
   "cell_type": "code",
   "execution_count": null,
   "id": "b77a10a0",
   "metadata": {},
   "outputs": [],
   "source": []
  },
  {
   "cell_type": "code",
   "execution_count": null,
   "id": "8ffe0c08",
   "metadata": {},
   "outputs": [],
   "source": []
  },
  {
   "cell_type": "code",
   "execution_count": null,
   "id": "3c3fa666",
   "metadata": {},
   "outputs": [],
   "source": []
  },
  {
   "cell_type": "code",
   "execution_count": null,
   "id": "9fb42ee6",
   "metadata": {},
   "outputs": [],
   "source": []
  },
  {
   "cell_type": "code",
   "execution_count": null,
   "id": "97b82cf1",
   "metadata": {},
   "outputs": [],
   "source": []
  },
  {
   "cell_type": "code",
   "execution_count": null,
   "id": "4661bd2c",
   "metadata": {},
   "outputs": [],
   "source": []
  },
  {
   "cell_type": "code",
   "execution_count": null,
   "id": "bf1d7abf",
   "metadata": {},
   "outputs": [],
   "source": []
  },
  {
   "cell_type": "code",
   "execution_count": null,
   "id": "343ec2f2",
   "metadata": {},
   "outputs": [],
   "source": []
  },
  {
   "cell_type": "code",
   "execution_count": null,
   "id": "93d6ae92",
   "metadata": {},
   "outputs": [],
   "source": []
  },
  {
   "cell_type": "code",
   "execution_count": null,
   "id": "6d776180",
   "metadata": {},
   "outputs": [],
   "source": []
  }
 ],
 "metadata": {
  "kernelspec": {
   "display_name": "Python 3",
   "language": "python",
   "name": "python3"
  },
  "language_info": {
   "codemirror_mode": {
    "name": "ipython",
    "version": 3
   },
   "file_extension": ".py",
   "mimetype": "text/x-python",
   "name": "python",
   "nbconvert_exporter": "python",
   "pygments_lexer": "ipython3",
   "version": "3.8.8"
  }
 },
 "nbformat": 4,
 "nbformat_minor": 5
}
