{
 "cells": [
  {
   "cell_type": "code",
   "execution_count": 1,
   "id": "f7a3d65f",
   "metadata": {},
   "outputs": [],
   "source": [
    "import pandas as pd\n",
    "import matplotlib.pyplot as plt"
   ]
  },
  {
   "cell_type": "code",
   "execution_count": 2,
   "id": "0c630e15",
   "metadata": {},
   "outputs": [
    {
     "data": {
      "text/html": [
       "<div>\n",
       "<style scoped>\n",
       "    .dataframe tbody tr th:only-of-type {\n",
       "        vertical-align: middle;\n",
       "    }\n",
       "\n",
       "    .dataframe tbody tr th {\n",
       "        vertical-align: top;\n",
       "    }\n",
       "\n",
       "    .dataframe thead th {\n",
       "        text-align: right;\n",
       "    }\n",
       "</style>\n",
       "<table border=\"1\" class=\"dataframe\">\n",
       "  <thead>\n",
       "    <tr style=\"text-align: right;\">\n",
       "      <th></th>\n",
       "      <th>itemID</th>\n",
       "      <th>brand</th>\n",
       "      <th>feature_1</th>\n",
       "      <th>feature_2</th>\n",
       "      <th>feature_3</th>\n",
       "      <th>feature_4</th>\n",
       "      <th>feature_5</th>\n",
       "      <th>categories</th>\n",
       "    </tr>\n",
       "  </thead>\n",
       "  <tbody>\n",
       "    <tr>\n",
       "      <th>0</th>\n",
       "      <td>22665</td>\n",
       "      <td>861</td>\n",
       "      <td>4</td>\n",
       "      <td>0</td>\n",
       "      <td>490</td>\n",
       "      <td>2</td>\n",
       "      <td>66</td>\n",
       "      <td>[2890, 855, 3908, 3909]</td>\n",
       "    </tr>\n",
       "    <tr>\n",
       "      <th>1</th>\n",
       "      <td>28640</td>\n",
       "      <td>1366</td>\n",
       "      <td>10</td>\n",
       "      <td>1</td>\n",
       "      <td>537</td>\n",
       "      <td>0</td>\n",
       "      <td>101</td>\n",
       "      <td>NaN</td>\n",
       "    </tr>\n",
       "    <tr>\n",
       "      <th>2</th>\n",
       "      <td>13526</td>\n",
       "      <td>1090</td>\n",
       "      <td>10</td>\n",
       "      <td>0</td>\n",
       "      <td>511</td>\n",
       "      <td>0</td>\n",
       "      <td>0</td>\n",
       "      <td>[3270, 163, 284, 1694, 12, 3837, 2422, 3595, 3...</td>\n",
       "    </tr>\n",
       "    <tr>\n",
       "      <th>3</th>\n",
       "      <td>21399</td>\n",
       "      <td>1090</td>\n",
       "      <td>10</td>\n",
       "      <td>1</td>\n",
       "      <td>511</td>\n",
       "      <td>0</td>\n",
       "      <td>0</td>\n",
       "      <td>[3270]</td>\n",
       "    </tr>\n",
       "    <tr>\n",
       "      <th>4</th>\n",
       "      <td>8504</td>\n",
       "      <td>768</td>\n",
       "      <td>4</td>\n",
       "      <td>1</td>\n",
       "      <td>484</td>\n",
       "      <td>0</td>\n",
       "      <td>66</td>\n",
       "      <td>[2470]</td>\n",
       "    </tr>\n",
       "  </tbody>\n",
       "</table>\n",
       "</div>"
      ],
      "text/plain": [
       "   itemID  brand  feature_1  feature_2  feature_3  feature_4  feature_5  \\\n",
       "0   22665    861          4          0        490          2         66   \n",
       "1   28640   1366         10          1        537          0        101   \n",
       "2   13526   1090         10          0        511          0          0   \n",
       "3   21399   1090         10          1        511          0          0   \n",
       "4    8504    768          4          1        484          0         66   \n",
       "\n",
       "                                          categories  \n",
       "0                            [2890, 855, 3908, 3909]  \n",
       "1                                                NaN  \n",
       "2  [3270, 163, 284, 1694, 12, 3837, 2422, 3595, 3...  \n",
       "3                                             [3270]  \n",
       "4                                             [2470]  "
      ]
     },
     "execution_count": 2,
     "metadata": {},
     "output_type": "execute_result"
    }
   ],
   "source": [
    "#read items\n",
    "df_items = pd.read_csv('items.csv', delimiter='|')\n",
    "\n",
    "#items first 5 rows\n",
    "df_items.head(5)"
   ]
  },
  {
   "cell_type": "code",
   "execution_count": 3,
   "id": "a47407ad",
   "metadata": {},
   "outputs": [],
   "source": [
    "#zip and create feature_3_frequency df\n",
    "fea3_count = zip(df_items['feature_3'].value_counts().index, df_items['feature_3'].value_counts().values)\n",
    "df_fea3_count = pd.DataFrame(fea3_count, columns=['fea', 'fre'])\n",
    "\n",
    "#zip and create feature_5_frequency df\n",
    "fea5_count = zip(df_items['feature_5'].value_counts().index, df_items['feature_5'].value_counts().values)\n",
    "df_fea5_count = pd.DataFrame(fea5_count, columns=['fea', 'fre'])\n",
    "\n",
    "#zip and create brand_frequency df\n",
    "bra_count = zip(df_items['brand'].value_counts().index, df_items['brand'].value_counts().values)\n",
    "df_bra_count = pd.DataFrame(bra_count, columns=['fea', 'fre'])"
   ]
  },
  {
   "cell_type": "code",
   "execution_count": 4,
   "id": "1c82c514",
   "metadata": {},
   "outputs": [
    {
     "data": {
      "image/png": "[encoded data removed]",
      "text/plain": [
       "<Figure size 432x288 with 1 Axes>"
      ]
     },
     "metadata": {
      "needs_background": "light"
     },
     "output_type": "display_data"
    }
   ],
   "source": [
    "#plot frequency of feature_3\n",
    "plt.plot(df_fea3_count['fre'].values)\n",
    "plt.show()"
   ]
  },
  {
   "cell_type": "code",
   "execution_count": 5,
   "id": "02d60012",
   "metadata": {},
   "outputs": [
    {
     "data": {
      "text/plain": [
       "(12, 2)"
      ]
     },
     "execution_count": 5,
     "metadata": {},
     "output_type": "execute_result"
    }
   ],
   "source": [
    "#determine how many categories to retain for feature_3\n",
    "df_fea3_count_r = df_fea3_count[df_fea3_count['fre']>450]\n",
    "df_fea3_count_r.shape"
   ]
  },
  {
   "cell_type": "code",
   "execution_count": null,
   "id": "7fcc9720",
   "metadata": {},
   "outputs": [],
   "source": []
  },
  {
   "cell_type": "code",
   "execution_count": 6,
   "id": "5f510f4c",
   "metadata": {},
   "outputs": [
    {
     "data": {
      "image/png": "[encoded data removed]",
      "text/plain": [
       "<Figure size 432x288 with 1 Axes>"
      ]
     },
     "metadata": {
      "needs_background": "light"
     },
     "output_type": "display_data"
    }
   ],
   "source": [
    "#plot frequency of feature_5\n",
    "plt.plot(df_fea5_count['fre'].values)\n",
    "plt.show()"
   ]
  },
  {
   "cell_type": "code",
   "execution_count": 7,
   "id": "2eb75cee",
   "metadata": {},
   "outputs": [
    {
     "data": {
      "text/plain": [
       "(12, 2)"
      ]
     },
     "execution_count": 7,
     "metadata": {},
     "output_type": "execute_result"
    }
   ],
   "source": [
    "#determine how many categories to retain for feature_5\n",
    "df_fea5_count_r = df_fea5_count[df_fea5_count['fre']>650]\n",
    "df_fea5_count_r.shape"
   ]
  },
  {
   "cell_type": "code",
   "execution_count": 8,
   "id": "e5db2971",
   "metadata": {},
   "outputs": [
    {
     "data": {
      "image/png": "[encoded data removed]",
      "text/plain": [
       "<Figure size 432x288 with 1 Axes>"
      ]
     },
     "metadata": {
      "needs_background": "light"
     },
     "output_type": "display_data"
    }
   ],
   "source": [
    "#plot frequency of brand\n",
    "plt.plot(df_bra_count['fre'].values)\n",
    "plt.show()"
   ]
  },
  {
   "cell_type": "code",
   "execution_count": 9,
   "id": "733fbd9e",
   "metadata": {},
   "outputs": [
    {
     "data": {
      "text/plain": [
       "(10, 2)"
      ]
     },
     "execution_count": 9,
     "metadata": {},
     "output_type": "execute_result"
    }
   ],
   "source": [
    "#determine how many categories to retain for brand\n",
    "df_bra_count_r = df_bra_count[df_bra_count['fre']>265]\n",
    "df_bra_count_r.shape"
   ]
  },
  {
   "cell_type": "code",
   "execution_count": 10,
   "id": "807dd35f",
   "metadata": {},
   "outputs": [],
   "source": [
    "#generate inrequent categories list for feature_3\n",
    "df_fea3_count_d = df_fea3_count[df_fea3_count['fre']<450]\n",
    "ls_f3 =df_fea3_count_d['fea'].values\n",
    "\n",
    "#generate inrequent categories list for feature_\n",
    "df_fea5_count_d = df_fea5_count[df_fea5_count['fre']<=650]\n",
    "ls_f5 =df_fea5_count_d['fea'].values\n",
    "\n",
    "#generate inrequent categories list for brand\n",
    "df_bra_count_d = df_bra_count[df_bra_count['fre']<=265]\n",
    "ls_bra =df_bra_count_d['fea'].values"
   ]
  },
  {
   "cell_type": "code",
   "execution_count": 11,
   "id": "a0729783",
   "metadata": {},
   "outputs": [],
   "source": [
    "#replace infrequent categories of featue_3 with others\n",
    "df_items['feature_3'] = df_items['feature_3'].replace(ls_f3,1514)\n",
    "\n",
    "#replace infrequent categories of featue_5 with mean\n",
    "df_items['feature_5'] = df_items['feature_5'].replace(ls_f5,539)\n",
    "\n",
    "#replace infrequent categories of brand with mean\n",
    "df_items['brand'] = df_items['brand'].replace(ls_bra,191)"
   ]
  },
  {
   "cell_type": "code",
   "execution_count": 12,
   "id": "50100b51",
   "metadata": {},
   "outputs": [
    {
     "data": {
      "text/plain": [
       "11"
      ]
     },
     "metadata": {},
     "output_type": "display_data"
    },
    {
     "data": {
      "text/plain": [
       "13"
      ]
     },
     "metadata": {},
     "output_type": "display_data"
    },
    {
     "data": {
      "text/plain": [
       "13"
      ]
     },
     "metadata": {},
     "output_type": "display_data"
    }
   ],
   "source": [
    "#display unique value number in brand\n",
    "display(len(df_items['brand'].unique()))\n",
    "\n",
    "#display unique value number in feature_3\n",
    "display(len(df_items['feature_3'].unique()))\n",
    "\n",
    "#display unique value number in features_5\n",
    "display(len(df_items['feature_5'].unique()))"
   ]
  },
  {
   "cell_type": "code",
   "execution_count": 13,
   "id": "9497c5dd",
   "metadata": {},
   "outputs": [
    {
     "data": {
      "text/html": [
       "<div>\n",
       "<style scoped>\n",
       "    .dataframe tbody tr th:only-of-type {\n",
       "        vertical-align: middle;\n",
       "    }\n",
       "\n",
       "    .dataframe tbody tr th {\n",
       "        vertical-align: top;\n",
       "    }\n",
       "\n",
       "    .dataframe thead th {\n",
       "        text-align: right;\n",
       "    }\n",
       "</style>\n",
       "<table border=\"1\" class=\"dataframe\">\n",
       "  <thead>\n",
       "    <tr style=\"text-align: right;\">\n",
       "      <th></th>\n",
       "      <th>itemID</th>\n",
       "      <th>brand</th>\n",
       "      <th>feature_1</th>\n",
       "      <th>feature_2</th>\n",
       "      <th>feature_3</th>\n",
       "      <th>feature_4</th>\n",
       "      <th>feature_5</th>\n",
       "      <th>categories</th>\n",
       "    </tr>\n",
       "  </thead>\n",
       "  <tbody>\n",
       "    <tr>\n",
       "      <th>0</th>\n",
       "      <td>22665</td>\n",
       "      <td>191</td>\n",
       "      <td>4</td>\n",
       "      <td>0</td>\n",
       "      <td>1514</td>\n",
       "      <td>2</td>\n",
       "      <td>66</td>\n",
       "      <td>[2890, 855, 3908, 3909]</td>\n",
       "    </tr>\n",
       "    <tr>\n",
       "      <th>1</th>\n",
       "      <td>28640</td>\n",
       "      <td>1366</td>\n",
       "      <td>10</td>\n",
       "      <td>1</td>\n",
       "      <td>537</td>\n",
       "      <td>0</td>\n",
       "      <td>101</td>\n",
       "      <td>NaN</td>\n",
       "    </tr>\n",
       "    <tr>\n",
       "      <th>2</th>\n",
       "      <td>13526</td>\n",
       "      <td>191</td>\n",
       "      <td>10</td>\n",
       "      <td>0</td>\n",
       "      <td>511</td>\n",
       "      <td>0</td>\n",
       "      <td>539</td>\n",
       "      <td>[3270, 163, 284, 1694, 12, 3837, 2422, 3595, 3...</td>\n",
       "    </tr>\n",
       "    <tr>\n",
       "      <th>3</th>\n",
       "      <td>21399</td>\n",
       "      <td>191</td>\n",
       "      <td>10</td>\n",
       "      <td>1</td>\n",
       "      <td>511</td>\n",
       "      <td>0</td>\n",
       "      <td>539</td>\n",
       "      <td>[3270]</td>\n",
       "    </tr>\n",
       "    <tr>\n",
       "      <th>4</th>\n",
       "      <td>8504</td>\n",
       "      <td>191</td>\n",
       "      <td>4</td>\n",
       "      <td>1</td>\n",
       "      <td>1514</td>\n",
       "      <td>0</td>\n",
       "      <td>66</td>\n",
       "      <td>[2470]</td>\n",
       "    </tr>\n",
       "    <tr>\n",
       "      <th>5</th>\n",
       "      <td>32122</td>\n",
       "      <td>191</td>\n",
       "      <td>4</td>\n",
       "      <td>1</td>\n",
       "      <td>491</td>\n",
       "      <td>0</td>\n",
       "      <td>66</td>\n",
       "      <td>NaN</td>\n",
       "    </tr>\n",
       "    <tr>\n",
       "      <th>6</th>\n",
       "      <td>31956</td>\n",
       "      <td>191</td>\n",
       "      <td>4</td>\n",
       "      <td>0</td>\n",
       "      <td>491</td>\n",
       "      <td>0</td>\n",
       "      <td>66</td>\n",
       "      <td>[236, 3625, 356]</td>\n",
       "    </tr>\n",
       "    <tr>\n",
       "      <th>7</th>\n",
       "      <td>6237</td>\n",
       "      <td>191</td>\n",
       "      <td>4</td>\n",
       "      <td>1</td>\n",
       "      <td>491</td>\n",
       "      <td>3</td>\n",
       "      <td>66</td>\n",
       "      <td>[2658, 1686]</td>\n",
       "    </tr>\n",
       "    <tr>\n",
       "      <th>8</th>\n",
       "      <td>16971</td>\n",
       "      <td>191</td>\n",
       "      <td>6</td>\n",
       "      <td>0</td>\n",
       "      <td>1514</td>\n",
       "      <td>0</td>\n",
       "      <td>45</td>\n",
       "      <td>[390, 2678, 1708]</td>\n",
       "    </tr>\n",
       "    <tr>\n",
       "      <th>9</th>\n",
       "      <td>18385</td>\n",
       "      <td>191</td>\n",
       "      <td>6</td>\n",
       "      <td>0</td>\n",
       "      <td>1514</td>\n",
       "      <td>0</td>\n",
       "      <td>45</td>\n",
       "      <td>[390, 1708]</td>\n",
       "    </tr>\n",
       "  </tbody>\n",
       "</table>\n",
       "</div>"
      ],
      "text/plain": [
       "   itemID  brand  feature_1  feature_2  feature_3  feature_4  feature_5  \\\n",
       "0   22665    191          4          0       1514          2         66   \n",
       "1   28640   1366         10          1        537          0        101   \n",
       "2   13526    191         10          0        511          0        539   \n",
       "3   21399    191         10          1        511          0        539   \n",
       "4    8504    191          4          1       1514          0         66   \n",
       "5   32122    191          4          1        491          0         66   \n",
       "6   31956    191          4          0        491          0         66   \n",
       "7    6237    191          4          1        491          3         66   \n",
       "8   16971    191          6          0       1514          0         45   \n",
       "9   18385    191          6          0       1514          0         45   \n",
       "\n",
       "                                          categories  \n",
       "0                            [2890, 855, 3908, 3909]  \n",
       "1                                                NaN  \n",
       "2  [3270, 163, 284, 1694, 12, 3837, 2422, 3595, 3...  \n",
       "3                                             [3270]  \n",
       "4                                             [2470]  \n",
       "5                                                NaN  \n",
       "6                                   [236, 3625, 356]  \n",
       "7                                       [2658, 1686]  \n",
       "8                                  [390, 2678, 1708]  \n",
       "9                                        [390, 1708]  "
      ]
     },
     "execution_count": 13,
     "metadata": {},
     "output_type": "execute_result"
    }
   ],
   "source": [
    "df_items.head(10)"
   ]
  },
  {
   "cell_type": "code",
   "execution_count": null,
   "id": "af8c1aac",
   "metadata": {},
   "outputs": [],
   "source": []
  },
  {
   "cell_type": "code",
   "execution_count": null,
   "id": "a1839a8f",
   "metadata": {},
   "outputs": [],
   "source": []
  },
  {
   "cell_type": "code",
   "execution_count": null,
   "id": "1876b684",
   "metadata": {},
   "outputs": [],
   "source": []
  },
  {
   "cell_type": "code",
   "execution_count": null,
   "id": "a1e133bd",
   "metadata": {},
   "outputs": [],
   "source": []
  },
  {
   "cell_type": "code",
   "execution_count": null,
   "id": "1ddab67c",
   "metadata": {},
   "outputs": [],
   "source": []
  },
  {
   "cell_type": "code",
   "execution_count": null,
   "id": "838447b8",
   "metadata": {},
   "outputs": [],
   "source": []
  },
  {
   "cell_type": "code",
   "execution_count": null,
   "id": "6dc0caba",
   "metadata": {},
   "outputs": [],
   "source": []
  },
  {
   "cell_type": "code",
   "execution_count": null,
   "id": "6f96ad0f",
   "metadata": {},
   "outputs": [],
   "source": []
  },
  {
   "cell_type": "code",
   "execution_count": null,
   "id": "23cff599",
   "metadata": {},
   "outputs": [],
   "source": []
  }
 ],
 "metadata": {
  "kernelspec": {
   "display_name": "Python 3",
   "language": "python",
   "name": "python3"
  },
  "language_info": {
   "codemirror_mode": {
    "name": "ipython",
    "version": 3
   },
   "file_extension": ".py",
   "mimetype": "text/x-python",
   "name": "python",
   "nbconvert_exporter": "python",
   "pygments_lexer": "ipython3",
   "version": "3.8.12"
  }
 },
 "nbformat": 4,
 "nbformat_minor": 5
}
