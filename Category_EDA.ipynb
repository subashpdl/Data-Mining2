{
 "cells": [
  {
   "cell_type": "code",
   "execution_count": 65,
   "id": "8c64dd21",
   "metadata": {},
   "outputs": [],
   "source": [
    "import pandas as pd \n",
    "import seaborn as sns \n",
    "import numpy as np\n",
    "import pickle\n",
    "import matplotlib.pyplot as plt"
   ]
  },
  {
   "cell_type": "code",
   "execution_count": 2,
   "id": "6dd46738",
   "metadata": {},
   "outputs": [
    {
     "name": "stdout",
     "output_type": "stream",
     "text": [
      "1.1.5\n"
     ]
    }
   ],
   "source": [
    "# Pandas >= 0.25 required for this notebook\n",
    "print(pd.__version__)"
   ]
  },
  {
   "cell_type": "markdown",
   "id": "853a9093",
   "metadata": {},
   "source": [
    "## Below is a modified and compressed version of Yuan's work on categories"
   ]
  },
  {
   "cell_type": "code",
   "execution_count": 3,
   "id": "cf8eb957",
   "metadata": {},
   "outputs": [],
   "source": [
    "import warnings\n",
    "warnings.filterwarnings('ignore')"
   ]
  },
  {
   "cell_type": "code",
   "execution_count": 4,
   "id": "a40f8cd2",
   "metadata": {
    "scrolled": true
   },
   "outputs": [
    {
     "data": {
      "text/html": [
       "<div>\n",
       "<style scoped>\n",
       "    .dataframe tbody tr th:only-of-type {\n",
       "        vertical-align: middle;\n",
       "    }\n",
       "\n",
       "    .dataframe tbody tr th {\n",
       "        vertical-align: top;\n",
       "    }\n",
       "\n",
       "    .dataframe thead th {\n",
       "        text-align: right;\n",
       "    }\n",
       "</style>\n",
       "<table border=\"1\" class=\"dataframe\">\n",
       "  <thead>\n",
       "    <tr style=\"text-align: right;\">\n",
       "      <th></th>\n",
       "      <th>itemID</th>\n",
       "      <th>brand</th>\n",
       "      <th>feature_1</th>\n",
       "      <th>feature_2</th>\n",
       "      <th>feature_3</th>\n",
       "      <th>feature_4</th>\n",
       "      <th>feature_5</th>\n",
       "      <th>categories</th>\n",
       "    </tr>\n",
       "  </thead>\n",
       "  <tbody>\n",
       "    <tr>\n",
       "      <th>0</th>\n",
       "      <td>22665</td>\n",
       "      <td>861</td>\n",
       "      <td>4</td>\n",
       "      <td>0</td>\n",
       "      <td>490</td>\n",
       "      <td>2</td>\n",
       "      <td>66</td>\n",
       "      <td>[2890, 855, 3908, 3909]</td>\n",
       "    </tr>\n",
       "    <tr>\n",
       "      <th>1</th>\n",
       "      <td>28640</td>\n",
       "      <td>1366</td>\n",
       "      <td>10</td>\n",
       "      <td>1</td>\n",
       "      <td>537</td>\n",
       "      <td>0</td>\n",
       "      <td>101</td>\n",
       "      <td>[4300]</td>\n",
       "    </tr>\n",
       "    <tr>\n",
       "      <th>2</th>\n",
       "      <td>13526</td>\n",
       "      <td>1090</td>\n",
       "      <td>10</td>\n",
       "      <td>0</td>\n",
       "      <td>511</td>\n",
       "      <td>0</td>\n",
       "      <td>0</td>\n",
       "      <td>[3270, 163, 284, 1694, 12, 3837, 2422, 3595, 3...</td>\n",
       "    </tr>\n",
       "    <tr>\n",
       "      <th>3</th>\n",
       "      <td>21399</td>\n",
       "      <td>1090</td>\n",
       "      <td>10</td>\n",
       "      <td>1</td>\n",
       "      <td>511</td>\n",
       "      <td>0</td>\n",
       "      <td>0</td>\n",
       "      <td>[3270]</td>\n",
       "    </tr>\n",
       "    <tr>\n",
       "      <th>4</th>\n",
       "      <td>8504</td>\n",
       "      <td>768</td>\n",
       "      <td>4</td>\n",
       "      <td>1</td>\n",
       "      <td>484</td>\n",
       "      <td>0</td>\n",
       "      <td>66</td>\n",
       "      <td>[2470]</td>\n",
       "    </tr>\n",
       "  </tbody>\n",
       "</table>\n",
       "</div>"
      ],
      "text/plain": [
       "   itemID  brand  feature_1  feature_2  feature_3  feature_4  feature_5  \\\n",
       "0   22665    861          4          0        490          2         66   \n",
       "1   28640   1366         10          1        537          0        101   \n",
       "2   13526   1090         10          0        511          0          0   \n",
       "3   21399   1090         10          1        511          0          0   \n",
       "4    8504    768          4          1        484          0         66   \n",
       "\n",
       "                                          categories  \n",
       "0                            [2890, 855, 3908, 3909]  \n",
       "1                                             [4300]  \n",
       "2  [3270, 163, 284, 1694, 12, 3837, 2422, 3595, 3...  \n",
       "3                                             [3270]  \n",
       "4                                             [2470]  "
      ]
     },
     "execution_count": 4,
     "metadata": {},
     "output_type": "execute_result"
    }
   ],
   "source": [
    "df_cat_hierarchy = pd.read_csv('category_hierarchy.csv', delimiter='|',error_bad_lines=False)\n",
    "df_items = pd.read_csv('items.csv',sep='|',error_bad_lines=False)\n",
    "# fill NA values in category column\n",
    "df_items[\"categories\"] = df_items[\"categories\"].fillna('[4300]')\n",
    "df_items.head()"
   ]
  },
  {
   "cell_type": "code",
   "execution_count": 5,
   "id": "4b9d90d4",
   "metadata": {},
   "outputs": [],
   "source": [
    "# transform categories from str to int list\n",
    "df_items['categories'] = df_items['categories'].map(lambda x: list(map(int,x.split(\"[\")[1].split(\"]\")[0].split(\",\"))))"
   ]
  },
  {
   "cell_type": "code",
   "execution_count": 6,
   "id": "5268a008",
   "metadata": {
    "scrolled": true
   },
   "outputs": [
    {
     "data": {
      "text/html": [
       "<div>\n",
       "<style scoped>\n",
       "    .dataframe tbody tr th:only-of-type {\n",
       "        vertical-align: middle;\n",
       "    }\n",
       "\n",
       "    .dataframe tbody tr th {\n",
       "        vertical-align: top;\n",
       "    }\n",
       "\n",
       "    .dataframe thead th {\n",
       "        text-align: right;\n",
       "    }\n",
       "</style>\n",
       "<table border=\"1\" class=\"dataframe\">\n",
       "  <thead>\n",
       "    <tr style=\"text-align: right;\">\n",
       "      <th></th>\n",
       "      <th>parent_category</th>\n",
       "    </tr>\n",
       "    <tr>\n",
       "      <th>category</th>\n",
       "      <th></th>\n",
       "    </tr>\n",
       "  </thead>\n",
       "  <tbody>\n",
       "    <tr>\n",
       "      <th>0</th>\n",
       "      <td>75</td>\n",
       "    </tr>\n",
       "    <tr>\n",
       "      <th>1</th>\n",
       "      <td>1499</td>\n",
       "    </tr>\n",
       "    <tr>\n",
       "      <th>2</th>\n",
       "      <td>1082</td>\n",
       "    </tr>\n",
       "    <tr>\n",
       "      <th>3</th>\n",
       "      <td>3498</td>\n",
       "    </tr>\n",
       "    <tr>\n",
       "      <th>4</th>\n",
       "      <td>1623</td>\n",
       "    </tr>\n",
       "  </tbody>\n",
       "</table>\n",
       "</div>"
      ],
      "text/plain": [
       "          parent_category\n",
       "category                 \n",
       "0                      75\n",
       "1                    1499\n",
       "2                    1082\n",
       "3                    3498\n",
       "4                    1623"
      ]
     },
     "execution_count": 6,
     "metadata": {},
     "output_type": "execute_result"
    }
   ],
   "source": [
    "# from categories list generate parent_categories\n",
    "df_indexed = df_cat_hierarchy.set_index(['category'])\n",
    "df_indexed.head()"
   ]
  },
  {
   "cell_type": "code",
   "execution_count": 7,
   "id": "2a61d0c4",
   "metadata": {
    "scrolled": true
   },
   "outputs": [
    {
     "data": {
      "text/plain": [
       "3898    3097\n",
       "2793     109\n",
       "252       93\n",
       "2346      81\n",
       "3624      71\n",
       "Name: layer4, dtype: int64"
      ]
     },
     "execution_count": 7,
     "metadata": {},
     "output_type": "execute_result"
    }
   ],
   "source": [
    "flat_hierachy = df_indexed.copy()\n",
    "flat_hierachy['layer3'] = df_indexed['parent_category'].map(lambda x: df_indexed.loc[x]['parent_category'])\n",
    "flat_hierachy['layer4'] = flat_hierachy['layer3'].map(lambda x: df_indexed.loc[x]['parent_category'])\n",
    "\n",
    "\n",
    "flat_hierachy['layer4'].value_counts().head()"
   ]
  },
  {
   "cell_type": "code",
   "execution_count": 8,
   "id": "f33ca464",
   "metadata": {
    "scrolled": true
   },
   "outputs": [],
   "source": [
    "# set parent of null as null\n",
    "df_indexed.loc[4300] = [4300]"
   ]
  },
  {
   "cell_type": "markdown",
   "id": "5d5939d2",
   "metadata": {},
   "source": [
    "## Now flatten the categories\n",
    "Each row needs to contain only one category, not a list of categories"
   ]
  },
  {
   "cell_type": "code",
   "execution_count": 9,
   "id": "ee259e56",
   "metadata": {},
   "outputs": [
    {
     "data": {
      "text/html": [
       "<div>\n",
       "<style scoped>\n",
       "    .dataframe tbody tr th:only-of-type {\n",
       "        vertical-align: middle;\n",
       "    }\n",
       "\n",
       "    .dataframe tbody tr th {\n",
       "        vertical-align: top;\n",
       "    }\n",
       "\n",
       "    .dataframe thead th {\n",
       "        text-align: right;\n",
       "    }\n",
       "</style>\n",
       "<table border=\"1\" class=\"dataframe\">\n",
       "  <thead>\n",
       "    <tr style=\"text-align: right;\">\n",
       "      <th></th>\n",
       "      <th>itemID</th>\n",
       "      <th>brand</th>\n",
       "      <th>feature_1</th>\n",
       "      <th>feature_2</th>\n",
       "      <th>feature_3</th>\n",
       "      <th>feature_4</th>\n",
       "      <th>feature_5</th>\n",
       "      <th>categories</th>\n",
       "    </tr>\n",
       "  </thead>\n",
       "  <tbody>\n",
       "    <tr>\n",
       "      <th>0</th>\n",
       "      <td>22665</td>\n",
       "      <td>861</td>\n",
       "      <td>4</td>\n",
       "      <td>0</td>\n",
       "      <td>490</td>\n",
       "      <td>2</td>\n",
       "      <td>66</td>\n",
       "      <td>2890</td>\n",
       "    </tr>\n",
       "    <tr>\n",
       "      <th>0</th>\n",
       "      <td>22665</td>\n",
       "      <td>861</td>\n",
       "      <td>4</td>\n",
       "      <td>0</td>\n",
       "      <td>490</td>\n",
       "      <td>2</td>\n",
       "      <td>66</td>\n",
       "      <td>855</td>\n",
       "    </tr>\n",
       "    <tr>\n",
       "      <th>0</th>\n",
       "      <td>22665</td>\n",
       "      <td>861</td>\n",
       "      <td>4</td>\n",
       "      <td>0</td>\n",
       "      <td>490</td>\n",
       "      <td>2</td>\n",
       "      <td>66</td>\n",
       "      <td>3908</td>\n",
       "    </tr>\n",
       "    <tr>\n",
       "      <th>0</th>\n",
       "      <td>22665</td>\n",
       "      <td>861</td>\n",
       "      <td>4</td>\n",
       "      <td>0</td>\n",
       "      <td>490</td>\n",
       "      <td>2</td>\n",
       "      <td>66</td>\n",
       "      <td>3909</td>\n",
       "    </tr>\n",
       "    <tr>\n",
       "      <th>1</th>\n",
       "      <td>28640</td>\n",
       "      <td>1366</td>\n",
       "      <td>10</td>\n",
       "      <td>1</td>\n",
       "      <td>537</td>\n",
       "      <td>0</td>\n",
       "      <td>101</td>\n",
       "      <td>4300</td>\n",
       "    </tr>\n",
       "  </tbody>\n",
       "</table>\n",
       "</div>"
      ],
      "text/plain": [
       "   itemID  brand  feature_1  feature_2  feature_3  feature_4  feature_5  \\\n",
       "0   22665    861          4          0        490          2         66   \n",
       "0   22665    861          4          0        490          2         66   \n",
       "0   22665    861          4          0        490          2         66   \n",
       "0   22665    861          4          0        490          2         66   \n",
       "1   28640   1366         10          1        537          0        101   \n",
       "\n",
       "  categories  \n",
       "0       2890  \n",
       "0        855  \n",
       "0       3908  \n",
       "0       3909  \n",
       "1       4300  "
      ]
     },
     "execution_count": 9,
     "metadata": {},
     "output_type": "execute_result"
    }
   ],
   "source": [
    "items_flat = df_items.copy()\n",
    "items_flat = items_flat.explode('categories')\n",
    "items_flat.head()"
   ]
  },
  {
   "cell_type": "code",
   "execution_count": 10,
   "id": "730321b7",
   "metadata": {},
   "outputs": [],
   "source": [
    "# parent_categories generate\n",
    "items_flat['parent_categories'] = items_flat['categories'].map(lambda x : df_indexed.loc[x]['parent_category'].tolist())"
   ]
  },
  {
   "cell_type": "code",
   "execution_count": 11,
   "id": "86734b88",
   "metadata": {
    "scrolled": true
   },
   "outputs": [
    {
     "data": {
      "text/html": [
       "<div>\n",
       "<style scoped>\n",
       "    .dataframe tbody tr th:only-of-type {\n",
       "        vertical-align: middle;\n",
       "    }\n",
       "\n",
       "    .dataframe tbody tr th {\n",
       "        vertical-align: top;\n",
       "    }\n",
       "\n",
       "    .dataframe thead th {\n",
       "        text-align: right;\n",
       "    }\n",
       "</style>\n",
       "<table border=\"1\" class=\"dataframe\">\n",
       "  <thead>\n",
       "    <tr style=\"text-align: right;\">\n",
       "      <th></th>\n",
       "      <th>itemID</th>\n",
       "      <th>brand</th>\n",
       "      <th>feature_1</th>\n",
       "      <th>feature_2</th>\n",
       "      <th>feature_3</th>\n",
       "      <th>feature_4</th>\n",
       "      <th>feature_5</th>\n",
       "      <th>categories</th>\n",
       "      <th>parent_categories</th>\n",
       "    </tr>\n",
       "  </thead>\n",
       "  <tbody>\n",
       "    <tr>\n",
       "      <th>0</th>\n",
       "      <td>22665</td>\n",
       "      <td>861</td>\n",
       "      <td>4</td>\n",
       "      <td>0</td>\n",
       "      <td>490</td>\n",
       "      <td>2</td>\n",
       "      <td>66</td>\n",
       "      <td>2890</td>\n",
       "      <td>2832</td>\n",
       "    </tr>\n",
       "    <tr>\n",
       "      <th>0</th>\n",
       "      <td>22665</td>\n",
       "      <td>861</td>\n",
       "      <td>4</td>\n",
       "      <td>0</td>\n",
       "      <td>490</td>\n",
       "      <td>2</td>\n",
       "      <td>66</td>\n",
       "      <td>855</td>\n",
       "      <td>1178</td>\n",
       "    </tr>\n",
       "    <tr>\n",
       "      <th>0</th>\n",
       "      <td>22665</td>\n",
       "      <td>861</td>\n",
       "      <td>4</td>\n",
       "      <td>0</td>\n",
       "      <td>490</td>\n",
       "      <td>2</td>\n",
       "      <td>66</td>\n",
       "      <td>3908</td>\n",
       "      <td>3898</td>\n",
       "    </tr>\n",
       "    <tr>\n",
       "      <th>0</th>\n",
       "      <td>22665</td>\n",
       "      <td>861</td>\n",
       "      <td>4</td>\n",
       "      <td>0</td>\n",
       "      <td>490</td>\n",
       "      <td>2</td>\n",
       "      <td>66</td>\n",
       "      <td>3909</td>\n",
       "      <td>3898</td>\n",
       "    </tr>\n",
       "    <tr>\n",
       "      <th>1</th>\n",
       "      <td>28640</td>\n",
       "      <td>1366</td>\n",
       "      <td>10</td>\n",
       "      <td>1</td>\n",
       "      <td>537</td>\n",
       "      <td>0</td>\n",
       "      <td>101</td>\n",
       "      <td>4300</td>\n",
       "      <td>4300</td>\n",
       "    </tr>\n",
       "  </tbody>\n",
       "</table>\n",
       "</div>"
      ],
      "text/plain": [
       "   itemID  brand  feature_1  feature_2  feature_3  feature_4  feature_5  \\\n",
       "0   22665    861          4          0        490          2         66   \n",
       "0   22665    861          4          0        490          2         66   \n",
       "0   22665    861          4          0        490          2         66   \n",
       "0   22665    861          4          0        490          2         66   \n",
       "1   28640   1366         10          1        537          0        101   \n",
       "\n",
       "  categories parent_categories  \n",
       "0       2890              2832  \n",
       "0        855              1178  \n",
       "0       3908              3898  \n",
       "0       3909              3898  \n",
       "1       4300              4300  "
      ]
     },
     "execution_count": 11,
     "metadata": {},
     "output_type": "execute_result"
    }
   ],
   "source": [
    "items_flat.head()"
   ]
  },
  {
   "cell_type": "code",
   "execution_count": 12,
   "id": "22012d9d",
   "metadata": {},
   "outputs": [],
   "source": [
    "# grandparent_categories generate\n",
    "items_flat['grandparent_categories'] = items_flat['parent_categories'].map(lambda x : df_indexed.loc[x]['parent_category'].tolist())"
   ]
  },
  {
   "cell_type": "code",
   "execution_count": 13,
   "id": "2eb6e459",
   "metadata": {},
   "outputs": [],
   "source": [
    "# grand_grand_par_categories generate\n",
    "items_flat['grand_grand_par_categories'] = items_flat['grandparent_categories'].map(lambda x : df_indexed.loc[x]['parent_category'].tolist())"
   ]
  },
  {
   "cell_type": "markdown",
   "id": "2f80296b",
   "metadata": {},
   "source": [
    "## Filter out replenishments"
   ]
  },
  {
   "cell_type": "code",
   "execution_count": 52,
   "id": "9830bbc3",
   "metadata": {},
   "outputs": [],
   "source": [
    "# get the replenishment booleans from a pickle file generated in DL_Dataset\n",
    "is_replen_file = open(\"is_replen.pickle\", \"rb\")\n",
    "is_replen = pickle.load(is_replen_file)\n",
    "is_replen_file.close()"
   ]
  },
  {
   "cell_type": "code",
   "execution_count": 42,
   "id": "0697c657",
   "metadata": {},
   "outputs": [],
   "source": [
    "# read in orders and make sure they are sorted in the same way as is_replen\n",
    "df_orders = pd.read_csv(\"orders_before_dec.csv\", sep = \"|\")\n",
    "df_orders = df_orders.sort_values([\"userID\", \"itemID\"])"
   ]
  },
  {
   "cell_type": "code",
   "execution_count": 44,
   "id": "d6e22060",
   "metadata": {},
   "outputs": [
    {
     "name": "stdout",
     "output_type": "stream",
     "text": [
      "767131\n",
      "767131\n"
     ]
    }
   ],
   "source": [
    "print(len(df_orders))\n",
    "print(len(is_replen))"
   ]
  },
  {
   "cell_type": "code",
   "execution_count": 46,
   "id": "b029e034",
   "metadata": {},
   "outputs": [
    {
     "data": {
      "text/html": [
       "<div>\n",
       "<style scoped>\n",
       "    .dataframe tbody tr th:only-of-type {\n",
       "        vertical-align: middle;\n",
       "    }\n",
       "\n",
       "    .dataframe tbody tr th {\n",
       "        vertical-align: top;\n",
       "    }\n",
       "\n",
       "    .dataframe thead th {\n",
       "        text-align: right;\n",
       "    }\n",
       "</style>\n",
       "<table border=\"1\" class=\"dataframe\">\n",
       "  <thead>\n",
       "    <tr style=\"text-align: right;\">\n",
       "      <th></th>\n",
       "      <th>date</th>\n",
       "      <th>userID</th>\n",
       "      <th>itemID</th>\n",
       "      <th>order</th>\n",
       "    </tr>\n",
       "  </thead>\n",
       "  <tbody>\n",
       "    <tr>\n",
       "      <th>540881</th>\n",
       "      <td>2020-10-09</td>\n",
       "      <td>0</td>\n",
       "      <td>20664</td>\n",
       "      <td>1</td>\n",
       "    </tr>\n",
       "    <tr>\n",
       "      <th>754276</th>\n",
       "      <td>2020-11-29</td>\n",
       "      <td>1</td>\n",
       "      <td>23055</td>\n",
       "      <td>2</td>\n",
       "    </tr>\n",
       "    <tr>\n",
       "      <th>480461</th>\n",
       "      <td>2020-09-23</td>\n",
       "      <td>2</td>\n",
       "      <td>23476</td>\n",
       "      <td>1</td>\n",
       "    </tr>\n",
       "    <tr>\n",
       "      <th>586060</th>\n",
       "      <td>2020-10-19</td>\n",
       "      <td>2</td>\n",
       "      <td>30829</td>\n",
       "      <td>1</td>\n",
       "    </tr>\n",
       "    <tr>\n",
       "      <th>590263</th>\n",
       "      <td>2020-10-20</td>\n",
       "      <td>3</td>\n",
       "      <td>4135</td>\n",
       "      <td>1</td>\n",
       "    </tr>\n",
       "    <tr>\n",
       "      <th>...</th>\n",
       "      <td>...</td>\n",
       "      <td>...</td>\n",
       "      <td>...</td>\n",
       "      <td>...</td>\n",
       "    </tr>\n",
       "    <tr>\n",
       "      <th>351114</th>\n",
       "      <td>2020-08-23</td>\n",
       "      <td>46131</td>\n",
       "      <td>32646</td>\n",
       "      <td>1</td>\n",
       "    </tr>\n",
       "    <tr>\n",
       "      <th>734036</th>\n",
       "      <td>2020-11-25</td>\n",
       "      <td>46132</td>\n",
       "      <td>1303</td>\n",
       "      <td>1</td>\n",
       "    </tr>\n",
       "    <tr>\n",
       "      <th>683867</th>\n",
       "      <td>2020-11-14</td>\n",
       "      <td>46133</td>\n",
       "      <td>5468</td>\n",
       "      <td>1</td>\n",
       "    </tr>\n",
       "    <tr>\n",
       "      <th>445416</th>\n",
       "      <td>2020-09-15</td>\n",
       "      <td>46134</td>\n",
       "      <td>21901</td>\n",
       "      <td>2</td>\n",
       "    </tr>\n",
       "    <tr>\n",
       "      <th>256527</th>\n",
       "      <td>2020-08-01</td>\n",
       "      <td>46136</td>\n",
       "      <td>30368</td>\n",
       "      <td>1</td>\n",
       "    </tr>\n",
       "  </tbody>\n",
       "</table>\n",
       "<p>99831 rows × 4 columns</p>\n",
       "</div>"
      ],
      "text/plain": [
       "              date  userID  itemID  order\n",
       "540881  2020-10-09       0   20664      1\n",
       "754276  2020-11-29       1   23055      2\n",
       "480461  2020-09-23       2   23476      1\n",
       "586060  2020-10-19       2   30829      1\n",
       "590263  2020-10-20       3    4135      1\n",
       "...            ...     ...     ...    ...\n",
       "351114  2020-08-23   46131   32646      1\n",
       "734036  2020-11-25   46132    1303      1\n",
       "683867  2020-11-14   46133    5468      1\n",
       "445416  2020-09-15   46134   21901      2\n",
       "256527  2020-08-01   46136   30368      1\n",
       "\n",
       "[99831 rows x 4 columns]"
      ]
     },
     "execution_count": 46,
     "metadata": {},
     "output_type": "execute_result"
    }
   ],
   "source": [
    "replenishments = df_orders[is_replen]\n",
    "replenishments"
   ]
  },
  {
   "cell_type": "markdown",
   "id": "00043732",
   "metadata": {},
   "source": [
    "### Now join the category information with the orders"
   ]
  },
  {
   "cell_type": "code",
   "execution_count": 78,
   "id": "86fcae2e",
   "metadata": {},
   "outputs": [
    {
     "name": "stdout",
     "output_type": "stream",
     "text": [
      "669787 data entries\n"
     ]
    },
    {
     "data": {
      "text/html": [
       "<div>\n",
       "<style scoped>\n",
       "    .dataframe tbody tr th:only-of-type {\n",
       "        vertical-align: middle;\n",
       "    }\n",
       "\n",
       "    .dataframe tbody tr th {\n",
       "        vertical-align: top;\n",
       "    }\n",
       "\n",
       "    .dataframe thead th {\n",
       "        text-align: right;\n",
       "    }\n",
       "</style>\n",
       "<table border=\"1\" class=\"dataframe\">\n",
       "  <thead>\n",
       "    <tr style=\"text-align: right;\">\n",
       "      <th></th>\n",
       "      <th>date</th>\n",
       "      <th>userID</th>\n",
       "      <th>itemID</th>\n",
       "      <th>order</th>\n",
       "      <th>brand</th>\n",
       "      <th>feature_1</th>\n",
       "      <th>feature_2</th>\n",
       "      <th>feature_3</th>\n",
       "      <th>feature_4</th>\n",
       "      <th>feature_5</th>\n",
       "      <th>categories</th>\n",
       "      <th>parent_categories</th>\n",
       "      <th>grandparent_categories</th>\n",
       "      <th>grand_grand_par_categories</th>\n",
       "    </tr>\n",
       "  </thead>\n",
       "  <tbody>\n",
       "    <tr>\n",
       "      <th>0</th>\n",
       "      <td>2020-10-09</td>\n",
       "      <td>0</td>\n",
       "      <td>20664</td>\n",
       "      <td>1</td>\n",
       "      <td>408</td>\n",
       "      <td>4</td>\n",
       "      <td>0</td>\n",
       "      <td>284</td>\n",
       "      <td>0</td>\n",
       "      <td>66</td>\n",
       "      <td>236</td>\n",
       "      <td>2054</td>\n",
       "      <td>2346</td>\n",
       "      <td>3898</td>\n",
       "    </tr>\n",
       "    <tr>\n",
       "      <th>1</th>\n",
       "      <td>2020-10-09</td>\n",
       "      <td>0</td>\n",
       "      <td>20664</td>\n",
       "      <td>1</td>\n",
       "      <td>408</td>\n",
       "      <td>4</td>\n",
       "      <td>0</td>\n",
       "      <td>284</td>\n",
       "      <td>0</td>\n",
       "      <td>66</td>\n",
       "      <td>356</td>\n",
       "      <td>1303</td>\n",
       "      <td>2346</td>\n",
       "      <td>3898</td>\n",
       "    </tr>\n",
       "    <tr>\n",
       "      <th>2</th>\n",
       "      <td>2020-08-31</td>\n",
       "      <td>1421</td>\n",
       "      <td>20664</td>\n",
       "      <td>1</td>\n",
       "      <td>408</td>\n",
       "      <td>4</td>\n",
       "      <td>0</td>\n",
       "      <td>284</td>\n",
       "      <td>0</td>\n",
       "      <td>66</td>\n",
       "      <td>236</td>\n",
       "      <td>2054</td>\n",
       "      <td>2346</td>\n",
       "      <td>3898</td>\n",
       "    </tr>\n",
       "    <tr>\n",
       "      <th>3</th>\n",
       "      <td>2020-08-31</td>\n",
       "      <td>1421</td>\n",
       "      <td>20664</td>\n",
       "      <td>1</td>\n",
       "      <td>408</td>\n",
       "      <td>4</td>\n",
       "      <td>0</td>\n",
       "      <td>284</td>\n",
       "      <td>0</td>\n",
       "      <td>66</td>\n",
       "      <td>356</td>\n",
       "      <td>1303</td>\n",
       "      <td>2346</td>\n",
       "      <td>3898</td>\n",
       "    </tr>\n",
       "    <tr>\n",
       "      <th>4</th>\n",
       "      <td>2020-10-29</td>\n",
       "      <td>1421</td>\n",
       "      <td>20664</td>\n",
       "      <td>1</td>\n",
       "      <td>408</td>\n",
       "      <td>4</td>\n",
       "      <td>0</td>\n",
       "      <td>284</td>\n",
       "      <td>0</td>\n",
       "      <td>66</td>\n",
       "      <td>236</td>\n",
       "      <td>2054</td>\n",
       "      <td>2346</td>\n",
       "      <td>3898</td>\n",
       "    </tr>\n",
       "    <tr>\n",
       "      <th>...</th>\n",
       "      <td>...</td>\n",
       "      <td>...</td>\n",
       "      <td>...</td>\n",
       "      <td>...</td>\n",
       "      <td>...</td>\n",
       "      <td>...</td>\n",
       "      <td>...</td>\n",
       "      <td>...</td>\n",
       "      <td>...</td>\n",
       "      <td>...</td>\n",
       "      <td>...</td>\n",
       "      <td>...</td>\n",
       "      <td>...</td>\n",
       "      <td>...</td>\n",
       "    </tr>\n",
       "    <tr>\n",
       "      <th>669782</th>\n",
       "      <td>2020-10-30</td>\n",
       "      <td>46131</td>\n",
       "      <td>2649</td>\n",
       "      <td>1</td>\n",
       "      <td>1156</td>\n",
       "      <td>10</td>\n",
       "      <td>1</td>\n",
       "      <td>489</td>\n",
       "      <td>3</td>\n",
       "      <td>39</td>\n",
       "      <td>3775</td>\n",
       "      <td>2012</td>\n",
       "      <td>3898</td>\n",
       "      <td>3898</td>\n",
       "    </tr>\n",
       "    <tr>\n",
       "      <th>669783</th>\n",
       "      <td>2020-10-30</td>\n",
       "      <td>46131</td>\n",
       "      <td>2649</td>\n",
       "      <td>1</td>\n",
       "      <td>1156</td>\n",
       "      <td>10</td>\n",
       "      <td>1</td>\n",
       "      <td>489</td>\n",
       "      <td>3</td>\n",
       "      <td>39</td>\n",
       "      <td>4032</td>\n",
       "      <td>3898</td>\n",
       "      <td>3898</td>\n",
       "      <td>3898</td>\n",
       "    </tr>\n",
       "    <tr>\n",
       "      <th>669784</th>\n",
       "      <td>2020-10-30</td>\n",
       "      <td>46131</td>\n",
       "      <td>3499</td>\n",
       "      <td>5</td>\n",
       "      <td>143</td>\n",
       "      <td>6</td>\n",
       "      <td>1</td>\n",
       "      <td>282</td>\n",
       "      <td>0</td>\n",
       "      <td>146</td>\n",
       "      <td>4300</td>\n",
       "      <td>4300</td>\n",
       "      <td>4300</td>\n",
       "      <td>4300</td>\n",
       "    </tr>\n",
       "    <tr>\n",
       "      <th>669785</th>\n",
       "      <td>2020-11-25</td>\n",
       "      <td>46132</td>\n",
       "      <td>1303</td>\n",
       "      <td>1</td>\n",
       "      <td>772</td>\n",
       "      <td>10</td>\n",
       "      <td>2</td>\n",
       "      <td>503</td>\n",
       "      <td>0</td>\n",
       "      <td>-1</td>\n",
       "      <td>146</td>\n",
       "      <td>431</td>\n",
       "      <td>965</td>\n",
       "      <td>3898</td>\n",
       "    </tr>\n",
       "    <tr>\n",
       "      <th>669786</th>\n",
       "      <td>2020-11-25</td>\n",
       "      <td>46132</td>\n",
       "      <td>1303</td>\n",
       "      <td>1</td>\n",
       "      <td>772</td>\n",
       "      <td>10</td>\n",
       "      <td>2</td>\n",
       "      <td>503</td>\n",
       "      <td>0</td>\n",
       "      <td>-1</td>\n",
       "      <td>1138</td>\n",
       "      <td>148</td>\n",
       "      <td>275</td>\n",
       "      <td>3898</td>\n",
       "    </tr>\n",
       "  </tbody>\n",
       "</table>\n",
       "<p>669787 rows × 14 columns</p>\n",
       "</div>"
      ],
      "text/plain": [
       "              date  userID  itemID  order  brand  feature_1  feature_2  \\\n",
       "0       2020-10-09       0   20664      1    408          4          0   \n",
       "1       2020-10-09       0   20664      1    408          4          0   \n",
       "2       2020-08-31    1421   20664      1    408          4          0   \n",
       "3       2020-08-31    1421   20664      1    408          4          0   \n",
       "4       2020-10-29    1421   20664      1    408          4          0   \n",
       "...            ...     ...     ...    ...    ...        ...        ...   \n",
       "669782  2020-10-30   46131    2649      1   1156         10          1   \n",
       "669783  2020-10-30   46131    2649      1   1156         10          1   \n",
       "669784  2020-10-30   46131    3499      5    143          6          1   \n",
       "669785  2020-11-25   46132    1303      1    772         10          2   \n",
       "669786  2020-11-25   46132    1303      1    772         10          2   \n",
       "\n",
       "        feature_3  feature_4  feature_5 categories parent_categories  \\\n",
       "0             284          0         66        236              2054   \n",
       "1             284          0         66        356              1303   \n",
       "2             284          0         66        236              2054   \n",
       "3             284          0         66        356              1303   \n",
       "4             284          0         66        236              2054   \n",
       "...           ...        ...        ...        ...               ...   \n",
       "669782        489          3         39       3775              2012   \n",
       "669783        489          3         39       4032              3898   \n",
       "669784        282          0        146       4300              4300   \n",
       "669785        503          0         -1        146               431   \n",
       "669786        503          0         -1       1138               148   \n",
       "\n",
       "       grandparent_categories grand_grand_par_categories  \n",
       "0                        2346                       3898  \n",
       "1                        2346                       3898  \n",
       "2                        2346                       3898  \n",
       "3                        2346                       3898  \n",
       "4                        2346                       3898  \n",
       "...                       ...                        ...  \n",
       "669782                   3898                       3898  \n",
       "669783                   3898                       3898  \n",
       "669784                   4300                       4300  \n",
       "669785                    965                       3898  \n",
       "669786                    275                       3898  \n",
       "\n",
       "[669787 rows x 14 columns]"
      ]
     },
     "execution_count": 78,
     "metadata": {},
     "output_type": "execute_result"
    }
   ],
   "source": [
    "data = pd.merge(replenishments, items_flat, on=\"itemID\")\n",
    "print(len(data), \"data entries\")\n",
    "data"
   ]
  },
  {
   "cell_type": "code",
   "execution_count": 132,
   "id": "0c88b0df",
   "metadata": {
    "scrolled": false
   },
   "outputs": [
    {
     "name": "stdout",
     "output_type": "stream",
     "text": [
      "categories\n",
      "3915    30772\n",
      "3914    23993\n",
      "3912    14312\n",
      "1763    11319\n",
      "1760    10115\n",
      "3924     9571\n",
      "3457     6993\n",
      "30       6814\n",
      "3173     6749\n",
      "1515     5604\n",
      "3245     5346\n",
      "3913     5268\n",
      "2443     4942\n",
      "3268     4888\n",
      "3670     4791\n",
      "dtype: int64\n",
      "count     2824.000000\n",
      "mean       237.176700\n",
      "std       1008.785406\n",
      "min          1.000000\n",
      "25%          8.000000\n",
      "50%         35.000000\n",
      "75%        139.000000\n",
      "max      30772.000000\n",
      "dtype: float64\n"
     ]
    }
   ],
   "source": [
    "orders_by_category = data.groupby([\"categories\"]).size().sort_values(ascending=False)\n",
    "top15categories = orders_by_category.head(15)\n",
    "print(top15categories)\n",
    "print(orders_by_category.describe())"
   ]
  },
  {
   "cell_type": "code",
   "execution_count": 134,
   "id": "a9ae6ba7",
   "metadata": {},
   "outputs": [
    {
     "data": {
      "image/png": "[encoded data removed]",
      "text/plain": [
       "<Figure size 432x288 with 1 Axes>"
      ]
     },
     "metadata": {
      "needs_background": "light"
     },
     "output_type": "display_data"
    }
   ],
   "source": [
    "sns.boxplot(orders_by_category);\n",
    "plt.ylabel('Categories', fontsize=12)\n",
    "plt.xlabel('Number of Replenishments', fontsize=12)\n",
    "plt.xticks(rotation='vertical')\n",
    "plt.title(\"Replenished over Categories\")\n",
    "plt.show()"
   ]
  },
  {
   "cell_type": "code",
   "execution_count": 74,
   "id": "74095514",
   "metadata": {},
   "outputs": [
    {
     "data": {
      "image/png": "[encoded data removed]",
      "text/plain": [
       "<Figure size 864x576 with 1 Axes>"
      ]
     },
     "metadata": {
      "needs_background": "light"
     },
     "output_type": "display_data"
    }
   ],
   "source": [
    "plt.figure(figsize=(12,8))\n",
    "sns.barplot(top15categories.index, top15categories.values, alpha=0.8)\n",
    "plt.ylabel('Number of Replenishments', fontsize=12)\n",
    "plt.xlabel('Categories', fontsize=12)\n",
    "plt.xticks(rotation='vertical')\n",
    "plt.title(\"Top 15 Most Replenished Categories\")\n",
    "plt.show()"
   ]
  },
  {
   "cell_type": "code",
   "execution_count": 128,
   "id": "791987c6",
   "metadata": {},
   "outputs": [
    {
     "name": "stdout",
     "output_type": "stream",
     "text": [
      "              userID         itemID          order          brand  \\\n",
      "count  672809.000000  672809.000000  672809.000000  672809.000000   \n",
      "mean    23152.021262   16878.117690       1.728165     624.029919   \n",
      "std     13285.293854    9372.697511       1.525566     481.664766   \n",
      "min         0.000000       1.000000       1.000000       0.000000   \n",
      "25%     11748.000000    9181.000000       1.000000     186.000000   \n",
      "50%     23263.000000   18630.000000       1.000000     539.000000   \n",
      "75%     34727.000000   24299.000000       2.000000    1040.000000   \n",
      "max     46136.000000   32770.000000     100.000000    1513.000000   \n",
      "\n",
      "           feature_1      feature_2      feature_3      feature_4  \\\n",
      "count  672809.000000  672809.000000  672809.000000  672809.000000   \n",
      "mean        6.438374       0.287529     311.793974       1.022822   \n",
      "std         2.819933       0.818529     163.286422       1.464988   \n",
      "min         0.000000       0.000000      -1.000000      -1.000000   \n",
      "25%         4.000000       0.000000     254.000000       0.000000   \n",
      "50%         4.000000       0.000000     332.000000       0.000000   \n",
      "75%        10.000000       0.000000     457.000000       3.000000   \n",
      "max        10.000000       3.000000     538.000000       4.000000   \n",
      "\n",
      "           feature_5  \n",
      "count  672809.000000  \n",
      "mean       77.240220  \n",
      "std        48.928354  \n",
      "min        -1.000000  \n",
      "25%        44.000000  \n",
      "50%        66.000000  \n",
      "75%       117.000000  \n",
      "max       190.000000  \n"
     ]
    },
    {
     "data": {
      "text/plain": [
       "672809"
      ]
     },
     "execution_count": 128,
     "metadata": {},
     "output_type": "execute_result"
    }
   ],
   "source": [
    "parent_category_data = data.explode('parent_categories')\n",
    "print(parent_category_data.describe())\n",
    "len(parent_category_data)"
   ]
  },
  {
   "cell_type": "markdown",
   "id": "419dde51",
   "metadata": {},
   "source": [
    "the following plot is not yet correct as some parent categories are duplicate"
   ]
  },
  {
   "cell_type": "code",
   "execution_count": 129,
   "id": "40dbf622",
   "metadata": {},
   "outputs": [
    {
     "name": "stdout",
     "output_type": "stream",
     "text": [
      "parent_categories\n",
      "3898    187552\n",
      "2231     24886\n",
      "3027     14748\n",
      "2542     14137\n",
      "2762     12112\n",
      "861      11318\n",
      "1682     10566\n",
      "2012      9865\n",
      "489       9492\n",
      "3726      9188\n",
      "1543      8765\n",
      "2134      8597\n",
      "621       7540\n",
      "1178      7493\n",
      "3056      6540\n",
      "dtype: int64\n",
      "count       569.000000\n",
      "mean       1182.441125\n",
      "std        8093.654986\n",
      "min           1.000000\n",
      "25%          39.000000\n",
      "50%         178.000000\n",
      "75%         683.000000\n",
      "max      187552.000000\n",
      "dtype: float64\n"
     ]
    }
   ],
   "source": [
    "orders_by_category = parent_category_data.groupby([\"parent_categories\"]).size().sort_values(ascending=False)\n",
    "top15categories = orders_by_category.head(15)\n",
    "print(top15categories)\n",
    "print(orders_by_category.describe())"
   ]
  },
  {
   "cell_type": "code",
   "execution_count": 130,
   "id": "4b5aeefb",
   "metadata": {},
   "outputs": [
    {
     "data": {
      "image/png": "[encoded data removed]",
      "text/plain": [
       "<Figure size 864x576 with 1 Axes>"
      ]
     },
     "metadata": {
      "needs_background": "light"
     },
     "output_type": "display_data"
    }
   ],
   "source": [
    "plt.figure(figsize=(12,8))\n",
    "sns.barplot(top15categories.index, top15categories.values, alpha=0.8)\n",
    "plt.ylabel('Number of Replenishments', fontsize=12)\n",
    "plt.xlabel('Categories', fontsize=12)\n",
    "plt.xticks(rotation='vertical')\n",
    "plt.title(\"Top 15 Most Replenished Categories\")\n",
    "plt.show()"
   ]
  }
 ],
 "metadata": {
  "kernelspec": {
   "display_name": "Python 3",
   "language": "python",
   "name": "python3"
  },
  "language_info": {
   "codemirror_mode": {
    "name": "ipython",
    "version": 3
   },
   "file_extension": ".py",
   "mimetype": "text/x-python",
   "name": "python",
   "nbconvert_exporter": "python",
   "pygments_lexer": "ipython3",
   "version": "3.6.13"
  }
 },
 "nbformat": 4,
 "nbformat_minor": 5
}