{
 "cells": [
  {
   "cell_type": "code",
   "execution_count": 33,
   "id": "5dd5a860",
   "metadata": {},
   "outputs": [],
   "source": [
    "import pandas as pd"
   ]
  },
  {
   "cell_type": "code",
   "execution_count": 34,
   "id": "93ce6332",
   "metadata": {},
   "outputs": [],
   "source": [
    "orders_all = pd.read_csv('orders.csv', delimiter='|')"
   ]
  },
  {
   "cell_type": "code",
   "execution_count": 35,
   "id": "fff23229",
   "metadata": {},
   "outputs": [],
   "source": [
    "orders = orders_all[['date', 'userID']]"
   ]
  },
  {
   "cell_type": "code",
   "execution_count": 36,
   "id": "c4aee686",
   "metadata": {},
   "outputs": [],
   "source": [
    "groups = orders.groupby('userID')"
   ]
  },
  {
   "cell_type": "code",
   "execution_count": 37,
   "id": "bde81059",
   "metadata": {},
   "outputs": [],
   "source": [
    "groups = list(groups)"
   ]
  },
  {
   "cell_type": "code",
   "execution_count": 38,
   "id": "3cf0c111",
   "metadata": {},
   "outputs": [],
   "source": [
    "ls = list()"
   ]
  },
  {
   "cell_type": "code",
   "execution_count": 39,
   "id": "71d06601",
   "metadata": {},
   "outputs": [],
   "source": [
    "for group in groups:\n",
    "    ls.append((group[0], group[1].shape[0]))"
   ]
  },
  {
   "cell_type": "code",
   "execution_count": 40,
   "id": "d3af991f",
   "metadata": {},
   "outputs": [],
   "source": [
    "df_userID_purchasetimes = pd.DataFrame(ls, columns=[\"userID\", \"total_purchase_times\"])"
   ]
  },
  {
   "cell_type": "code",
   "execution_count": 41,
   "id": "c2e2f4c2",
   "metadata": {},
   "outputs": [],
   "source": [
    "#df_userID_purchasetimes"
   ]
  },
  {
   "cell_type": "code",
   "execution_count": 42,
   "id": "9cf14db2",
   "metadata": {},
   "outputs": [],
   "source": [
    "orders_all = pd.merge(orders_all,df_userID_purchasetimes, on='userID', how='left' )"
   ]
  },
  {
   "cell_type": "code",
   "execution_count": 43,
   "id": "683d10c9",
   "metadata": {},
   "outputs": [],
   "source": [
    "orders_all.to_csv('orders_tpt.csv', sep=',', encoding='utf-8', index=False)"
   ]
  },
  {
   "cell_type": "code",
   "execution_count": null,
   "id": "32c954fe",
   "metadata": {},
   "outputs": [],
   "source": []
  },
  {
   "cell_type": "code",
   "execution_count": null,
   "id": "4c47ad31",
   "metadata": {},
   "outputs": [],
   "source": []
  },
  {
   "cell_type": "code",
   "execution_count": null,
   "id": "536bd8cc",
   "metadata": {},
   "outputs": [],
   "source": []
  },
  {
   "cell_type": "raw",
   "id": "24b7fea9",
   "metadata": {},
   "source": []
  },
  {
   "cell_type": "code",
   "execution_count": null,
   "id": "86ee0773",
   "metadata": {},
   "outputs": [],
   "source": []
  }
 ],
 "metadata": {
  "kernelspec": {
   "display_name": "Python 3",
   "language": "python",
   "name": "python3"
  },
  "language_info": {
   "codemirror_mode": {
    "name": "ipython",
    "version": 3
   },
   "file_extension": ".py",
   "mimetype": "text/x-python",
   "name": "python",
   "nbconvert_exporter": "python",
   "pygments_lexer": "ipython3",
   "version": "3.8.8"
  }
 },
 "nbformat": 4,
 "nbformat_minor": 5
}
